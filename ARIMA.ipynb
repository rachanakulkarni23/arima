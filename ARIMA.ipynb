{
  "cells": [
    {
      "cell_type": "code",
      "execution_count": 2,
      "metadata": {
        "colab": {
          "base_uri": "https://localhost:8080/",
          "height": 256
        },
        "id": "XMvtSSgJQcY1",
        "outputId": "c2a49145-6c36-470f-e05e-c4cf2ac5d414"
      },
      "outputs": [
        {
          "data": {
            "text/html": [
              "<div>\n",
              "<style scoped>\n",
              "    .dataframe tbody tr th:only-of-type {\n",
              "        vertical-align: middle;\n",
              "    }\n",
              "\n",
              "    .dataframe tbody tr th {\n",
              "        vertical-align: top;\n",
              "    }\n",
              "\n",
              "    .dataframe thead th {\n",
              "        text-align: right;\n",
              "    }\n",
              "</style>\n",
              "<table border=\"1\" class=\"dataframe\">\n",
              "  <thead>\n",
              "    <tr style=\"text-align: right;\">\n",
              "      <th></th>\n",
              "      <th>HOUSEID</th>\n",
              "      <th>PERSONID</th>\n",
              "      <th>TRIPID</th>\n",
              "      <th>SEQ_TRIPID</th>\n",
              "      <th>VEHCASEID</th>\n",
              "      <th>FRSTHM</th>\n",
              "      <th>PARK</th>\n",
              "      <th>HHMEMDRV</th>\n",
              "      <th>TDWKND</th>\n",
              "      <th>TRAVDAY</th>\n",
              "      <th>...</th>\n",
              "      <th>WORKER</th>\n",
              "      <th>DRIVER</th>\n",
              "      <th>R_RACE</th>\n",
              "      <th>R_HISP</th>\n",
              "      <th>PROXY</th>\n",
              "      <th>EDUC</th>\n",
              "      <th>PRMACT</th>\n",
              "      <th>R_SEX_IMP</th>\n",
              "      <th>VEHTYPE</th>\n",
              "      <th>HHFAMINC_IMP</th>\n",
              "    </tr>\n",
              "  </thead>\n",
              "  <tbody>\n",
              "    <tr>\n",
              "      <th>0</th>\n",
              "      <td>9000013002</td>\n",
              "      <td>1</td>\n",
              "      <td>1</td>\n",
              "      <td>1</td>\n",
              "      <td>900001300201</td>\n",
              "      <td>1</td>\n",
              "      <td>2</td>\n",
              "      <td>1</td>\n",
              "      <td>1</td>\n",
              "      <td>1</td>\n",
              "      <td>...</td>\n",
              "      <td>2</td>\n",
              "      <td>1</td>\n",
              "      <td>1</td>\n",
              "      <td>2</td>\n",
              "      <td>1</td>\n",
              "      <td>7</td>\n",
              "      <td>3</td>\n",
              "      <td>2</td>\n",
              "      <td>3</td>\n",
              "      <td>11</td>\n",
              "    </tr>\n",
              "    <tr>\n",
              "      <th>1</th>\n",
              "      <td>9000013002</td>\n",
              "      <td>1</td>\n",
              "      <td>2</td>\n",
              "      <td>2</td>\n",
              "      <td>900001300201</td>\n",
              "      <td>1</td>\n",
              "      <td>2</td>\n",
              "      <td>1</td>\n",
              "      <td>1</td>\n",
              "      <td>1</td>\n",
              "      <td>...</td>\n",
              "      <td>2</td>\n",
              "      <td>1</td>\n",
              "      <td>1</td>\n",
              "      <td>2</td>\n",
              "      <td>1</td>\n",
              "      <td>7</td>\n",
              "      <td>3</td>\n",
              "      <td>2</td>\n",
              "      <td>3</td>\n",
              "      <td>11</td>\n",
              "    </tr>\n",
              "    <tr>\n",
              "      <th>2</th>\n",
              "      <td>9000013002</td>\n",
              "      <td>2</td>\n",
              "      <td>1</td>\n",
              "      <td>1</td>\n",
              "      <td>900001300202</td>\n",
              "      <td>1</td>\n",
              "      <td>-1</td>\n",
              "      <td>1</td>\n",
              "      <td>1</td>\n",
              "      <td>1</td>\n",
              "      <td>...</td>\n",
              "      <td>1</td>\n",
              "      <td>1</td>\n",
              "      <td>1</td>\n",
              "      <td>2</td>\n",
              "      <td>2</td>\n",
              "      <td>7</td>\n",
              "      <td>-1</td>\n",
              "      <td>1</td>\n",
              "      <td>3</td>\n",
              "      <td>11</td>\n",
              "    </tr>\n",
              "    <tr>\n",
              "      <th>3</th>\n",
              "      <td>9000013002</td>\n",
              "      <td>2</td>\n",
              "      <td>2</td>\n",
              "      <td>2</td>\n",
              "      <td>900001300202</td>\n",
              "      <td>1</td>\n",
              "      <td>-1</td>\n",
              "      <td>1</td>\n",
              "      <td>1</td>\n",
              "      <td>1</td>\n",
              "      <td>...</td>\n",
              "      <td>1</td>\n",
              "      <td>1</td>\n",
              "      <td>1</td>\n",
              "      <td>2</td>\n",
              "      <td>2</td>\n",
              "      <td>7</td>\n",
              "      <td>-1</td>\n",
              "      <td>1</td>\n",
              "      <td>3</td>\n",
              "      <td>11</td>\n",
              "    </tr>\n",
              "    <tr>\n",
              "      <th>4</th>\n",
              "      <td>9000013002</td>\n",
              "      <td>2</td>\n",
              "      <td>3</td>\n",
              "      <td>3</td>\n",
              "      <td>900001300202</td>\n",
              "      <td>1</td>\n",
              "      <td>-1</td>\n",
              "      <td>1</td>\n",
              "      <td>1</td>\n",
              "      <td>1</td>\n",
              "      <td>...</td>\n",
              "      <td>1</td>\n",
              "      <td>1</td>\n",
              "      <td>1</td>\n",
              "      <td>2</td>\n",
              "      <td>2</td>\n",
              "      <td>7</td>\n",
              "      <td>-1</td>\n",
              "      <td>1</td>\n",
              "      <td>3</td>\n",
              "      <td>11</td>\n",
              "    </tr>\n",
              "  </tbody>\n",
              "</table>\n",
              "<p>5 rows × 85 columns</p>\n",
              "</div>"
            ],
            "text/plain": [
              "      HOUSEID  PERSONID  TRIPID  SEQ_TRIPID     VEHCASEID  FRSTHM  PARK  \\\n",
              "0  9000013002         1       1           1  900001300201       1     2   \n",
              "1  9000013002         1       2           2  900001300201       1     2   \n",
              "2  9000013002         2       1           1  900001300202       1    -1   \n",
              "3  9000013002         2       2           2  900001300202       1    -1   \n",
              "4  9000013002         2       3           3  900001300202       1    -1   \n",
              "\n",
              "   HHMEMDRV  TDWKND  TRAVDAY  ...  WORKER  DRIVER  R_RACE  R_HISP  PROXY  \\\n",
              "0         1       1        1  ...       2       1       1       2      1   \n",
              "1         1       1        1  ...       2       1       1       2      1   \n",
              "2         1       1        1  ...       1       1       1       2      2   \n",
              "3         1       1        1  ...       1       1       1       2      2   \n",
              "4         1       1        1  ...       1       1       1       2      2   \n",
              "\n",
              "   EDUC  PRMACT  R_SEX_IMP  VEHTYPE  HHFAMINC_IMP  \n",
              "0     7       3          2        3            11  \n",
              "1     7       3          2        3            11  \n",
              "2     7      -1          1        3            11  \n",
              "3     7      -1          1        3            11  \n",
              "4     7      -1          1        3            11  \n",
              "\n",
              "[5 rows x 85 columns]"
            ]
          },
          "execution_count": 2,
          "metadata": {},
          "output_type": "execute_result"
        }
      ],
      "source": [
        "import pandas as pd\n",
        "import numpy as np\n",
        "import matplotlib.pyplot as plt\n",
        "from matplotlib import pyplot\n",
        "from pandas.plotting import autocorrelation_plot\n",
        "from statsmodels.tsa.arima.model import ARIMA\n",
        "data = pd.read_csv('tripv2pub.csv')\n",
        "data.head()"
      ]
    },
    {
      "cell_type": "code",
      "execution_count": 3,
      "metadata": {
        "colab": {
          "base_uri": "https://localhost:8080/"
        },
        "id": "eIk80UCRQ2AY",
        "outputId": "abaa3934-a1ca-43bb-b02c-504d085b3383"
      },
      "outputs": [
        {
          "data": {
            "text/plain": [
              "(31074, 85)"
            ]
          },
          "execution_count": 3,
          "metadata": {},
          "output_type": "execute_result"
        }
      ],
      "source": [
        "data.shape\n"
      ]
    },
    {
      "cell_type": "code",
      "execution_count": 4,
      "metadata": {
        "id": "skZLoXCTRtqt"
      },
      "outputs": [],
      "source": [
        "# autocorrelation_plot(data)\n",
        "# pyplot.show()"
      ]
    },
    {
      "cell_type": "code",
      "execution_count": 6,
      "metadata": {
        "colab": {
          "base_uri": "https://localhost:8080/",
          "height": 238
        },
        "id": "P04ZOxp5Q4Hv",
        "outputId": "938b28a1-6cd3-45de-abb1-07bb5258bbff"
      },
      "outputs": [
        {
          "data": {
            "text/html": [
              "<div>\n",
              "<style scoped>\n",
              "    .dataframe tbody tr th:only-of-type {\n",
              "        vertical-align: middle;\n",
              "    }\n",
              "\n",
              "    .dataframe tbody tr th {\n",
              "        vertical-align: top;\n",
              "    }\n",
              "\n",
              "    .dataframe thead th {\n",
              "        text-align: right;\n",
              "    }\n",
              "</style>\n",
              "<table border=\"1\" class=\"dataframe\">\n",
              "  <thead>\n",
              "    <tr style=\"text-align: right;\">\n",
              "      <th></th>\n",
              "      <th>URBRUR</th>\n",
              "      <th>URBANSIZE</th>\n",
              "      <th>TRAVDAY</th>\n",
              "      <th>TDAYDATE</th>\n",
              "      <th>STRTTIME</th>\n",
              "      <th>ENDTIME</th>\n",
              "      <th>TRPMILES</th>\n",
              "      <th>VEHID</th>\n",
              "    </tr>\n",
              "  </thead>\n",
              "  <tbody>\n",
              "    <tr>\n",
              "      <th>0</th>\n",
              "      <td>1</td>\n",
              "      <td>4</td>\n",
              "      <td>1</td>\n",
              "      <td>202202</td>\n",
              "      <td>1435</td>\n",
              "      <td>1450</td>\n",
              "      <td>3.902424</td>\n",
              "      <td>1</td>\n",
              "    </tr>\n",
              "    <tr>\n",
              "      <th>1</th>\n",
              "      <td>1</td>\n",
              "      <td>4</td>\n",
              "      <td>1</td>\n",
              "      <td>202202</td>\n",
              "      <td>1605</td>\n",
              "      <td>1615</td>\n",
              "      <td>3.902424</td>\n",
              "      <td>1</td>\n",
              "    </tr>\n",
              "    <tr>\n",
              "      <th>2</th>\n",
              "      <td>1</td>\n",
              "      <td>4</td>\n",
              "      <td>1</td>\n",
              "      <td>202202</td>\n",
              "      <td>700</td>\n",
              "      <td>730</td>\n",
              "      <td>17.077067</td>\n",
              "      <td>2</td>\n",
              "    </tr>\n",
              "    <tr>\n",
              "      <th>3</th>\n",
              "      <td>1</td>\n",
              "      <td>4</td>\n",
              "      <td>1</td>\n",
              "      <td>202202</td>\n",
              "      <td>740</td>\n",
              "      <td>750</td>\n",
              "      <td>4.748291</td>\n",
              "      <td>2</td>\n",
              "    </tr>\n",
              "    <tr>\n",
              "      <th>4</th>\n",
              "      <td>1</td>\n",
              "      <td>4</td>\n",
              "      <td>1</td>\n",
              "      <td>202202</td>\n",
              "      <td>800</td>\n",
              "      <td>830</td>\n",
              "      <td>14.098819</td>\n",
              "      <td>2</td>\n",
              "    </tr>\n",
              "  </tbody>\n",
              "</table>\n",
              "</div>"
            ],
            "text/plain": [
              "   URBRUR  URBANSIZE  TRAVDAY  TDAYDATE  STRTTIME  ENDTIME   TRPMILES  VEHID\n",
              "0       1          4        1    202202      1435     1450   3.902424      1\n",
              "1       1          4        1    202202      1605     1615   3.902424      1\n",
              "2       1          4        1    202202       700      730  17.077067      2\n",
              "3       1          4        1    202202       740      750   4.748291      2\n",
              "4       1          4        1    202202       800      830  14.098819      2"
            ]
          },
          "execution_count": 6,
          "metadata": {},
          "output_type": "execute_result"
        }
      ],
      "source": [
        "df = data[['URBRUR','URBANSIZE','TRAVDAY','TDAYDATE','STRTTIME','ENDTIME','TRPMILES','VEHID']]\n",
        "df.head()\n"
      ]
    },
    {
      "cell_type": "code",
      "execution_count": 7,
      "metadata": {
        "colab": {
          "base_uri": "https://localhost:8080/"
        },
        "id": "DpJT1IZiQ6AK",
        "outputId": "b7ff3a06-8ceb-49e4-8b2d-c04322efd4e7"
      },
      "outputs": [
        {
          "data": {
            "text/plain": [
              "(31074, 8)"
            ]
          },
          "execution_count": 7,
          "metadata": {},
          "output_type": "execute_result"
        }
      ],
      "source": [
        "df.shape"
      ]
    },
    {
      "cell_type": "code",
      "execution_count": 9,
      "metadata": {
        "colab": {
          "base_uri": "https://localhost:8080/",
          "height": 206
        },
        "id": "QIRFrTOTQ8Cs",
        "outputId": "c0d4278b-b92a-4d6c-c45d-6578ec1ed347"
      },
      "outputs": [
        {
          "data": {
            "text/html": [
              "<div>\n",
              "<style scoped>\n",
              "    .dataframe tbody tr th:only-of-type {\n",
              "        vertical-align: middle;\n",
              "    }\n",
              "\n",
              "    .dataframe tbody tr th {\n",
              "        vertical-align: top;\n",
              "    }\n",
              "\n",
              "    .dataframe thead th {\n",
              "        text-align: right;\n",
              "    }\n",
              "</style>\n",
              "<table border=\"1\" class=\"dataframe\">\n",
              "  <thead>\n",
              "    <tr style=\"text-align: right;\">\n",
              "      <th></th>\n",
              "      <th>WRKTRANS</th>\n",
              "    </tr>\n",
              "  </thead>\n",
              "  <tbody>\n",
              "    <tr>\n",
              "      <th>0</th>\n",
              "      <td>-1</td>\n",
              "    </tr>\n",
              "    <tr>\n",
              "      <th>1</th>\n",
              "      <td>-1</td>\n",
              "    </tr>\n",
              "    <tr>\n",
              "      <th>2</th>\n",
              "      <td>-1</td>\n",
              "    </tr>\n",
              "    <tr>\n",
              "      <th>3</th>\n",
              "      <td>-1</td>\n",
              "    </tr>\n",
              "    <tr>\n",
              "      <th>4</th>\n",
              "      <td>1</td>\n",
              "    </tr>\n",
              "  </tbody>\n",
              "</table>\n",
              "</div>"
            ],
            "text/plain": [
              "   WRKTRANS\n",
              "0        -1\n",
              "1        -1\n",
              "2        -1\n",
              "3        -1\n",
              "4         1"
            ]
          },
          "execution_count": 9,
          "metadata": {},
          "output_type": "execute_result"
        }
      ],
      "source": [
        "df2 = pd.read_csv('perv2pub.csv')\n",
        "df2 = df2[['WRKTRANS']]\n",
        "df2.head()"
      ]
    },
    {
      "cell_type": "code",
      "execution_count": 10,
      "metadata": {
        "colab": {
          "base_uri": "https://localhost:8080/"
        },
        "id": "JNl3AFWyQ92F",
        "outputId": "13f10738-a4f4-4bd2-82e0-130122422e0f"
      },
      "outputs": [
        {
          "name": "stdout",
          "output_type": "stream",
          "text": [
            "URBRUR         int64\n",
            "URBANSIZE      int64\n",
            "TRAVDAY        int64\n",
            "TDAYDATE       int64\n",
            "STRTTIME       int64\n",
            "ENDTIME        int64\n",
            "TRPMILES     float64\n",
            "VEHID          int64\n",
            "WRKTRANS     float64\n",
            "dtype: object\n"
          ]
        }
      ],
      "source": [
        "data = pd.concat([df,df2],axis=1)\n",
        "data.head()\n",
        "print(data.dtypes)"
      ]
    },
    {
      "cell_type": "code",
      "execution_count": 134,
      "metadata": {
        "id": "yXsfVFKHQ_fY"
      },
      "outputs": [],
      "source": [
        "# for column in data.columns:\n",
        "#   unique_values = data[column].unique()\n",
        "#   print(f\"Column '{column}': {unique_values}\")"
      ]
    },
    {
      "cell_type": "markdown",
      "metadata": {
        "id": "tgAtF-4VRG2T"
      },
      "source": [
        "# **Data Preprocessing**"
      ]
    },
    {
      "cell_type": "markdown",
      "metadata": {
        "id": "1wHH4gSoRJgn"
      },
      "source": [
        "**Handling Missing Values**"
      ]
    },
    {
      "cell_type": "code",
      "execution_count": 11,
      "metadata": {
        "colab": {
          "base_uri": "https://localhost:8080/"
        },
        "id": "aoja048xRLbz",
        "outputId": "0c48ea23-29bf-4adb-da82-d07a2273f685"
      },
      "outputs": [
        {
          "name": "stdout",
          "output_type": "stream",
          "text": [
            "Shape before handling missing values (31074, 9)\n",
            "   URBRUR  URBANSIZE  TRAVDAY  TDAYDATE  STRTTIME  ENDTIME   TRPMILES  VEHID  \\\n",
            "0       1          4        1    202202      1435     1450   3.902424      1   \n",
            "1       1          4        1    202202      1605     1615   3.902424      1   \n",
            "2       1          4        1    202202       700      730  17.077067      2   \n",
            "3       1          4        1    202202       740      750   4.748291      2   \n",
            "4       1          4        1    202202       800      830  14.098819      2   \n",
            "\n",
            "  WRKTRANS  \n",
            "0     <NA>  \n",
            "1     <NA>  \n",
            "2     <NA>  \n",
            "3     <NA>  \n",
            "4      1.0  \n",
            "   URBRUR  URBANSIZE  TRAVDAY  TDAYDATE  STRTTIME  ENDTIME   TRPMILES  VEHID  \\\n",
            "0       1          4        1    202202      1435     1450   3.902424      1   \n",
            "1       1          4        1    202202      1605     1615   3.902424      1   \n",
            "2       1          4        1    202202       700      730  17.077067      2   \n",
            "3       1          4        1    202202       740      750   4.748291      2   \n",
            "4       1          4        1    202202       800      830  14.098819      2   \n",
            "\n",
            "   WRKTRANS  \n",
            "0       1.0  \n",
            "1       1.0  \n",
            "2       1.0  \n",
            "3       1.0  \n",
            "4       1.0  \n",
            "Shape after handling missing values (31074, 9)\n"
          ]
        },
        {
          "name": "stderr",
          "output_type": "stream",
          "text": [
            "/var/folders/dh/scd7rd5x5kq171g7vm_bkv7m0000gn/T/ipykernel_90705/2503809284.py:7: FutureWarning: A value is trying to be set on a copy of a DataFrame or Series through chained assignment using an inplace method.\n",
            "The behavior will change in pandas 3.0. This inplace method will never work because the intermediate object on which we are setting values always behaves as a copy.\n",
            "\n",
            "For example, when doing 'df[col].method(value, inplace=True)', try using 'df.method({col: value}, inplace=True)' or df[col] = df[col].method(value) instead, to perform the operation inplace on the original object.\n",
            "\n",
            "\n",
            "  data['WRKTRANS'].fillna(wrkt_mode, inplace=True)\n",
            "/var/folders/dh/scd7rd5x5kq171g7vm_bkv7m0000gn/T/ipykernel_90705/2503809284.py:7: FutureWarning: Downcasting object dtype arrays on .fillna, .ffill, .bfill is deprecated and will change in a future version. Call result.infer_objects(copy=False) instead. To opt-in to the future behavior, set `pd.set_option('future.no_silent_downcasting', True)`\n",
            "  data['WRKTRANS'].fillna(wrkt_mode, inplace=True)\n"
          ]
        }
      ],
      "source": [
        "print('Shape before handling missing values',data.shape)\n",
        "data['WRKTRANS'] = data['WRKTRANS'].replace(-1.0, pd.NA)\n",
        "print(data.head())\n",
        "\n",
        "# Fill missing values in 'WRKTRANS' with the mode (most frequent value)\n",
        "wrkt_mode = data['WRKTRANS'].mode()[0]\n",
        "data['WRKTRANS'].fillna(wrkt_mode, inplace=True)\n",
        "\n",
        "# Display the data after imputing missing values\n",
        "print(data.head())\n",
        "\n",
        "print('Shape after handling missing values',data.shape)"
      ]
    },
    {
      "cell_type": "code",
      "execution_count": 12,
      "metadata": {
        "colab": {
          "base_uri": "https://localhost:8080/"
        },
        "id": "ui3Py3svROIU",
        "outputId": "c12793ee-cf78-4d0c-916e-a53be83ec443"
      },
      "outputs": [
        {
          "name": "stdout",
          "output_type": "stream",
          "text": [
            "Shape before handling missing values (31074, 9)\n",
            "Shape after handling missing values (31074, 9)\n"
          ]
        }
      ],
      "source": [
        "print('Shape before handling missing values',data.shape)\n",
        "data = data.dropna()\n",
        "print('Shape after handling missing values',data.shape)"
      ]
    },
    {
      "cell_type": "code",
      "execution_count": 13,
      "metadata": {
        "colab": {
          "base_uri": "https://localhost:8080/"
        },
        "id": "5NSvH2jU0ULt",
        "outputId": "9c4ab7e4-8187-465e-86a8-6fde2688bd54"
      },
      "outputs": [
        {
          "name": "stdout",
          "output_type": "stream",
          "text": [
            "URBRUR                 int64\n",
            "URBANSIZE              int64\n",
            "TRAVDAY                int64\n",
            "TDAYDATE               int64\n",
            "STRTTIME               int64\n",
            "ENDTIME                int64\n",
            "TRPMILES             float64\n",
            "VEHID                  int64\n",
            "WRKTRANS             float64\n",
            "STRTDATETIME_UNIX      int64\n",
            "ENDDATETIME_UNIX       int64\n",
            "dtype: object\n"
          ]
        }
      ],
      "source": [
        "data['STRTDATETIME_UNIX'] = data['TDAYDATE'] + data['STRTTIME']\n",
        "data['ENDDATETIME_UNIX'] = data['TDAYDATE'] + data['ENDTIME']\n",
        "print(data.dtypes)"
      ]
    },
    {
      "cell_type": "code",
      "execution_count": 14,
      "metadata": {
        "colab": {
          "base_uri": "https://localhost:8080/"
        },
        "id": "WvuFwcFaRRdI",
        "outputId": "82ef7cbe-f4b9-40e9-93de-14a9cf77c383"
      },
      "outputs": [
        {
          "name": "stdout",
          "output_type": "stream",
          "text": [
            "   URBRUR  URBANSIZE  TRAVDAY TDAYDATE  STRTTIME  ENDTIME   TRPMILES  VEHID  \\\n",
            "0       1          4        1  2022-02      1435     1450   3.902424      1   \n",
            "1       1          4        1  2022-02      1605     1615   3.902424      1   \n",
            "2       1          4        1  2022-02       700      730  17.077067      2   \n",
            "3       1          4        1  2022-02       740      750   4.748291      2   \n",
            "4       1          4        1  2022-02       800      830  14.098819      2   \n",
            "\n",
            "   WRKTRANS  STRTDATETIME_UNIX  ENDDATETIME_UNIX  \n",
            "0       1.0             203637            203652  \n",
            "1       1.0             203807            203817  \n",
            "2       1.0             202902            202932  \n",
            "3       1.0             202942            202952  \n",
            "4       1.0             203002            203032  \n"
          ]
        }
      ],
      "source": [
        "# Convert TDAYDATE to datetime format representing YearMonth and then to YYYY-MM\n",
        "data['TDAYDATE'] = pd.to_datetime(data['TDAYDATE'].astype(str), format='%Y%m').dt.strftime('%Y-%m')\n",
        "\n",
        "# Display the data to check the conversion\n",
        "print(data.head())"
      ]
    },
    {
      "cell_type": "code",
      "execution_count": 15,
      "metadata": {
        "colab": {
          "base_uri": "https://localhost:8080/"
        },
        "id": "Xl62n2unr73T",
        "outputId": "d2f8c24c-6e4d-4866-c07f-3a38b56eceb3"
      },
      "outputs": [
        {
          "name": "stdout",
          "output_type": "stream",
          "text": [
            "   URBRUR  URBANSIZE  TRAVDAY TDAYDATE STRTTIME ENDTIME   TRPMILES  VEHID  \\\n",
            "0       1          4        1  2022-02    14:35   14:50   3.902424      1   \n",
            "1       1          4        1  2022-02    16:05   16:15   3.902424      1   \n",
            "2       1          4        1  2022-02    07:00   07:30  17.077067      2   \n",
            "3       1          4        1  2022-02    07:40   07:50   4.748291      2   \n",
            "4       1          4        1  2022-02    08:00   08:30  14.098819      2   \n",
            "\n",
            "   WRKTRANS  STRTDATETIME_UNIX  ENDDATETIME_UNIX  \n",
            "0       1.0             203637            203652  \n",
            "1       1.0             203807            203817  \n",
            "2       1.0             202902            202932  \n",
            "3       1.0             202942            202952  \n",
            "4       1.0             203002            203032  \n"
          ]
        }
      ],
      "source": [
        "def convert_to_time_format(time_int):\n",
        "    time_str = str(time_int).zfill(4)  # Convert to string and pad with zeros\n",
        "    return time_str[:2] + ':' + time_str[2:]  # Insert colon between hours and minutes\n",
        "\n",
        "# Apply the conversion function to STRTTIME and ENDTIME columns\n",
        "data['STRTTIME'] = data['STRTTIME'].apply(convert_to_time_format)\n",
        "data['ENDTIME'] = data['ENDTIME'].apply(convert_to_time_format)\n",
        "print(data.head())\n"
      ]
    },
    {
      "cell_type": "code",
      "execution_count": 16,
      "metadata": {
        "colab": {
          "base_uri": "https://localhost:8080/"
        },
        "id": "ONx8kd7IRS_8",
        "outputId": "abf2e6a7-3609-43f3-b611-6e4ecd4de4e2"
      },
      "outputs": [
        {
          "name": "stderr",
          "output_type": "stream",
          "text": [
            "/var/folders/dh/scd7rd5x5kq171g7vm_bkv7m0000gn/T/ipykernel_90705/2057339650.py:1: UserWarning: Could not infer format, so each element will be parsed individually, falling back to `dateutil`. To ensure parsing is consistent and as-expected, please specify a format.\n",
            "  data['STRTDATETIME'] = pd.to_datetime(data['TDAYDATE'] + ' ' + data['STRTTIME'])\n",
            "/var/folders/dh/scd7rd5x5kq171g7vm_bkv7m0000gn/T/ipykernel_90705/2057339650.py:2: UserWarning: Could not infer format, so each element will be parsed individually, falling back to `dateutil`. To ensure parsing is consistent and as-expected, please specify a format.\n",
            "  data['ENDDATETIME'] = pd.to_datetime(data['TDAYDATE'] + ' ' + data['ENDTIME'])\n"
          ]
        },
        {
          "name": "stdout",
          "output_type": "stream",
          "text": [
            "   URBRUR  URBANSIZE  TRAVDAY TDAYDATE STRTTIME ENDTIME   TRPMILES  VEHID  \\\n",
            "0       1          4        1  2022-02    14:35   14:50   3.902424      1   \n",
            "1       1          4        1  2022-02    16:05   16:15   3.902424      1   \n",
            "2       1          4        1  2022-02    07:00   07:30  17.077067      2   \n",
            "3       1          4        1  2022-02    07:40   07:50   4.748291      2   \n",
            "4       1          4        1  2022-02    08:00   08:30  14.098819      2   \n",
            "\n",
            "   WRKTRANS  STRTDATETIME_UNIX  ENDDATETIME_UNIX   STRTDATETIME    ENDDATETIME  \n",
            "0       1.0             203637            203652  2022-02 14:35  2022-02 14:50  \n",
            "1       1.0             203807            203817  2022-02 16:05  2022-02 16:15  \n",
            "2       1.0             202902            202932  2022-02 07:00  2022-02 07:30  \n",
            "3       1.0             202942            202952  2022-02 07:40  2022-02 07:50  \n",
            "4       1.0             203002            203032  2022-02 08:00  2022-02 08:30  \n"
          ]
        }
      ],
      "source": [
        "data['STRTDATETIME'] = pd.to_datetime(data['TDAYDATE'] + ' ' + data['STRTTIME'])\n",
        "data['ENDDATETIME'] = pd.to_datetime(data['TDAYDATE'] + ' ' + data['ENDTIME'])\n",
        "data['STRTDATETIME'] = data['STRTDATETIME'].dt.strftime('%Y-%m %H:%M')\n",
        "data['ENDDATETIME'] = data['ENDDATETIME'].dt.strftime('%Y-%m %H:%M')\n",
        "print(data.head())"
      ]
    },
    {
      "cell_type": "code",
      "execution_count": 17,
      "metadata": {
        "colab": {
          "base_uri": "https://localhost:8080/",
          "height": 258
        },
        "id": "DUecg8yXmKw_",
        "outputId": "8b751e85-07b6-43f9-8249-e1b96f02df6a"
      },
      "outputs": [
        {
          "data": {
            "text/html": [
              "<div>\n",
              "<style scoped>\n",
              "    .dataframe tbody tr th:only-of-type {\n",
              "        vertical-align: middle;\n",
              "    }\n",
              "\n",
              "    .dataframe tbody tr th {\n",
              "        vertical-align: top;\n",
              "    }\n",
              "\n",
              "    .dataframe thead th {\n",
              "        text-align: right;\n",
              "    }\n",
              "</style>\n",
              "<table border=\"1\" class=\"dataframe\">\n",
              "  <thead>\n",
              "    <tr style=\"text-align: right;\">\n",
              "      <th></th>\n",
              "      <th>URBRUR</th>\n",
              "      <th>URBANSIZE</th>\n",
              "      <th>TRAVDAY</th>\n",
              "      <th>TDAYDATE</th>\n",
              "      <th>STRTTIME</th>\n",
              "      <th>ENDTIME</th>\n",
              "      <th>TRPMILES</th>\n",
              "      <th>VEHID</th>\n",
              "      <th>WRKTRANS</th>\n",
              "      <th>STRTDATETIME_UNIX</th>\n",
              "      <th>ENDDATETIME_UNIX</th>\n",
              "      <th>STRTDATETIME</th>\n",
              "      <th>ENDDATETIME</th>\n",
              "    </tr>\n",
              "    <tr>\n",
              "      <th>STRTDATETIME</th>\n",
              "      <th></th>\n",
              "      <th></th>\n",
              "      <th></th>\n",
              "      <th></th>\n",
              "      <th></th>\n",
              "      <th></th>\n",
              "      <th></th>\n",
              "      <th></th>\n",
              "      <th></th>\n",
              "      <th></th>\n",
              "      <th></th>\n",
              "      <th></th>\n",
              "      <th></th>\n",
              "    </tr>\n",
              "  </thead>\n",
              "  <tbody>\n",
              "    <tr>\n",
              "      <th>2022-02 14:35</th>\n",
              "      <td>1</td>\n",
              "      <td>4</td>\n",
              "      <td>1</td>\n",
              "      <td>2022-02</td>\n",
              "      <td>14:35</td>\n",
              "      <td>14:50</td>\n",
              "      <td>3.902424</td>\n",
              "      <td>1</td>\n",
              "      <td>1.0</td>\n",
              "      <td>203637</td>\n",
              "      <td>203652</td>\n",
              "      <td>2022-02 14:35</td>\n",
              "      <td>2022-02 14:50</td>\n",
              "    </tr>\n",
              "    <tr>\n",
              "      <th>2022-02 16:05</th>\n",
              "      <td>1</td>\n",
              "      <td>4</td>\n",
              "      <td>1</td>\n",
              "      <td>2022-02</td>\n",
              "      <td>16:05</td>\n",
              "      <td>16:15</td>\n",
              "      <td>3.902424</td>\n",
              "      <td>1</td>\n",
              "      <td>1.0</td>\n",
              "      <td>203807</td>\n",
              "      <td>203817</td>\n",
              "      <td>2022-02 16:05</td>\n",
              "      <td>2022-02 16:15</td>\n",
              "    </tr>\n",
              "    <tr>\n",
              "      <th>2022-02 07:00</th>\n",
              "      <td>1</td>\n",
              "      <td>4</td>\n",
              "      <td>1</td>\n",
              "      <td>2022-02</td>\n",
              "      <td>07:00</td>\n",
              "      <td>07:30</td>\n",
              "      <td>17.077067</td>\n",
              "      <td>2</td>\n",
              "      <td>1.0</td>\n",
              "      <td>202902</td>\n",
              "      <td>202932</td>\n",
              "      <td>2022-02 07:00</td>\n",
              "      <td>2022-02 07:30</td>\n",
              "    </tr>\n",
              "    <tr>\n",
              "      <th>2022-02 07:40</th>\n",
              "      <td>1</td>\n",
              "      <td>4</td>\n",
              "      <td>1</td>\n",
              "      <td>2022-02</td>\n",
              "      <td>07:40</td>\n",
              "      <td>07:50</td>\n",
              "      <td>4.748291</td>\n",
              "      <td>2</td>\n",
              "      <td>1.0</td>\n",
              "      <td>202942</td>\n",
              "      <td>202952</td>\n",
              "      <td>2022-02 07:40</td>\n",
              "      <td>2022-02 07:50</td>\n",
              "    </tr>\n",
              "    <tr>\n",
              "      <th>2022-02 08:00</th>\n",
              "      <td>1</td>\n",
              "      <td>4</td>\n",
              "      <td>1</td>\n",
              "      <td>2022-02</td>\n",
              "      <td>08:00</td>\n",
              "      <td>08:30</td>\n",
              "      <td>14.098819</td>\n",
              "      <td>2</td>\n",
              "      <td>1.0</td>\n",
              "      <td>203002</td>\n",
              "      <td>203032</td>\n",
              "      <td>2022-02 08:00</td>\n",
              "      <td>2022-02 08:30</td>\n",
              "    </tr>\n",
              "  </tbody>\n",
              "</table>\n",
              "</div>"
            ],
            "text/plain": [
              "               URBRUR  URBANSIZE  TRAVDAY TDAYDATE STRTTIME ENDTIME  \\\n",
              "STRTDATETIME                                                          \n",
              "2022-02 14:35       1          4        1  2022-02    14:35   14:50   \n",
              "2022-02 16:05       1          4        1  2022-02    16:05   16:15   \n",
              "2022-02 07:00       1          4        1  2022-02    07:00   07:30   \n",
              "2022-02 07:40       1          4        1  2022-02    07:40   07:50   \n",
              "2022-02 08:00       1          4        1  2022-02    08:00   08:30   \n",
              "\n",
              "                TRPMILES  VEHID  WRKTRANS  STRTDATETIME_UNIX  \\\n",
              "STRTDATETIME                                                   \n",
              "2022-02 14:35   3.902424      1       1.0             203637   \n",
              "2022-02 16:05   3.902424      1       1.0             203807   \n",
              "2022-02 07:00  17.077067      2       1.0             202902   \n",
              "2022-02 07:40   4.748291      2       1.0             202942   \n",
              "2022-02 08:00  14.098819      2       1.0             203002   \n",
              "\n",
              "               ENDDATETIME_UNIX   STRTDATETIME    ENDDATETIME  \n",
              "STRTDATETIME                                                   \n",
              "2022-02 14:35            203652  2022-02 14:35  2022-02 14:50  \n",
              "2022-02 16:05            203817  2022-02 16:05  2022-02 16:15  \n",
              "2022-02 07:00            202932  2022-02 07:00  2022-02 07:30  \n",
              "2022-02 07:40            202952  2022-02 07:40  2022-02 07:50  \n",
              "2022-02 08:00            203032  2022-02 08:00  2022-02 08:30  "
            ]
          },
          "execution_count": 17,
          "metadata": {},
          "output_type": "execute_result"
        }
      ],
      "source": [
        "data.set_index(data['STRTDATETIME'], inplace=True)\n",
        "data.head()"
      ]
    },
    {
      "cell_type": "markdown",
      "metadata": {
        "id": "GjzFO4OBmt6i"
      },
      "source": [
        "# **Exploratory Data Analysis(EDA)**"
      ]
    },
    {
      "cell_type": "code",
      "execution_count": 18,
      "metadata": {
        "colab": {
          "base_uri": "https://localhost:8080/",
          "height": 476
        },
        "id": "XpctVMmimyiu",
        "outputId": "dea3c966-801c-4fc6-aeef-4a5abcd08134"
      },
      "outputs": [
        {
          "ename": "KeyboardInterrupt",
          "evalue": "",
          "output_type": "error",
          "traceback": [
            "\u001b[0;31m---------------------------------------------------------------------------\u001b[0m",
            "\u001b[0;31mKeyboardInterrupt\u001b[0m                         Traceback (most recent call last)",
            "Cell \u001b[0;32mIn[18], line 7\u001b[0m\n\u001b[1;32m      5\u001b[0m plt\u001b[38;5;241m.\u001b[39mylabel(\u001b[38;5;124m'\u001b[39m\u001b[38;5;124mMiles\u001b[39m\u001b[38;5;124m'\u001b[39m)\n\u001b[1;32m      6\u001b[0m plt\u001b[38;5;241m.\u001b[39mlegend()\n\u001b[0;32m----> 7\u001b[0m \u001b[43mplt\u001b[49m\u001b[38;5;241;43m.\u001b[39;49m\u001b[43mshow\u001b[49m\u001b[43m(\u001b[49m\u001b[43m)\u001b[49m\n",
            "File \u001b[0;32m/Library/Frameworks/Python.framework/Versions/3.12/lib/python3.12/site-packages/matplotlib/pyplot.py:607\u001b[0m, in \u001b[0;36mshow\u001b[0;34m(*args, **kwargs)\u001b[0m\n\u001b[1;32m    563\u001b[0m \u001b[38;5;250m\u001b[39m\u001b[38;5;124;03m\"\"\"\u001b[39;00m\n\u001b[1;32m    564\u001b[0m \u001b[38;5;124;03mDisplay all open figures.\u001b[39;00m\n\u001b[1;32m    565\u001b[0m \n\u001b[0;32m   (...)\u001b[0m\n\u001b[1;32m    604\u001b[0m \u001b[38;5;124;03mexplicitly there.\u001b[39;00m\n\u001b[1;32m    605\u001b[0m \u001b[38;5;124;03m\"\"\"\u001b[39;00m\n\u001b[1;32m    606\u001b[0m _warn_if_gui_out_of_main_thread()\n\u001b[0;32m--> 607\u001b[0m \u001b[38;5;28;01mreturn\u001b[39;00m \u001b[43m_get_backend_mod\u001b[49m\u001b[43m(\u001b[49m\u001b[43m)\u001b[49m\u001b[38;5;241;43m.\u001b[39;49m\u001b[43mshow\u001b[49m\u001b[43m(\u001b[49m\u001b[38;5;241;43m*\u001b[39;49m\u001b[43margs\u001b[49m\u001b[43m,\u001b[49m\u001b[43m \u001b[49m\u001b[38;5;241;43m*\u001b[39;49m\u001b[38;5;241;43m*\u001b[39;49m\u001b[43mkwargs\u001b[49m\u001b[43m)\u001b[49m\n",
            "File \u001b[0;32m~/Library/Python/3.12/lib/python/site-packages/matplotlib_inline/backend_inline.py:90\u001b[0m, in \u001b[0;36mshow\u001b[0;34m(close, block)\u001b[0m\n\u001b[1;32m     88\u001b[0m \u001b[38;5;28;01mtry\u001b[39;00m:\n\u001b[1;32m     89\u001b[0m     \u001b[38;5;28;01mfor\u001b[39;00m figure_manager \u001b[38;5;129;01min\u001b[39;00m Gcf\u001b[38;5;241m.\u001b[39mget_all_fig_managers():\n\u001b[0;32m---> 90\u001b[0m         \u001b[43mdisplay\u001b[49m\u001b[43m(\u001b[49m\n\u001b[1;32m     91\u001b[0m \u001b[43m            \u001b[49m\u001b[43mfigure_manager\u001b[49m\u001b[38;5;241;43m.\u001b[39;49m\u001b[43mcanvas\u001b[49m\u001b[38;5;241;43m.\u001b[39;49m\u001b[43mfigure\u001b[49m\u001b[43m,\u001b[49m\n\u001b[1;32m     92\u001b[0m \u001b[43m            \u001b[49m\u001b[43mmetadata\u001b[49m\u001b[38;5;241;43m=\u001b[39;49m\u001b[43m_fetch_figure_metadata\u001b[49m\u001b[43m(\u001b[49m\u001b[43mfigure_manager\u001b[49m\u001b[38;5;241;43m.\u001b[39;49m\u001b[43mcanvas\u001b[49m\u001b[38;5;241;43m.\u001b[39;49m\u001b[43mfigure\u001b[49m\u001b[43m)\u001b[49m\n\u001b[1;32m     93\u001b[0m \u001b[43m        \u001b[49m\u001b[43m)\u001b[49m\n\u001b[1;32m     94\u001b[0m \u001b[38;5;28;01mfinally\u001b[39;00m:\n\u001b[1;32m     95\u001b[0m     show\u001b[38;5;241m.\u001b[39m_to_draw \u001b[38;5;241m=\u001b[39m []\n",
            "File \u001b[0;32m~/Library/Python/3.12/lib/python/site-packages/IPython/core/display_functions.py:298\u001b[0m, in \u001b[0;36mdisplay\u001b[0;34m(include, exclude, metadata, transient, display_id, raw, clear, *objs, **kwargs)\u001b[0m\n\u001b[1;32m    296\u001b[0m     publish_display_data(data\u001b[38;5;241m=\u001b[39mobj, metadata\u001b[38;5;241m=\u001b[39mmetadata, \u001b[38;5;241m*\u001b[39m\u001b[38;5;241m*\u001b[39mkwargs)\n\u001b[1;32m    297\u001b[0m \u001b[38;5;28;01melse\u001b[39;00m:\n\u001b[0;32m--> 298\u001b[0m     format_dict, md_dict \u001b[38;5;241m=\u001b[39m \u001b[38;5;28;43mformat\u001b[39;49m\u001b[43m(\u001b[49m\u001b[43mobj\u001b[49m\u001b[43m,\u001b[49m\u001b[43m \u001b[49m\u001b[43minclude\u001b[49m\u001b[38;5;241;43m=\u001b[39;49m\u001b[43minclude\u001b[49m\u001b[43m,\u001b[49m\u001b[43m \u001b[49m\u001b[43mexclude\u001b[49m\u001b[38;5;241;43m=\u001b[39;49m\u001b[43mexclude\u001b[49m\u001b[43m)\u001b[49m\n\u001b[1;32m    299\u001b[0m     \u001b[38;5;28;01mif\u001b[39;00m \u001b[38;5;129;01mnot\u001b[39;00m format_dict:\n\u001b[1;32m    300\u001b[0m         \u001b[38;5;66;03m# nothing to display (e.g. _ipython_display_ took over)\u001b[39;00m\n\u001b[1;32m    301\u001b[0m         \u001b[38;5;28;01mcontinue\u001b[39;00m\n",
            "File \u001b[0;32m~/Library/Python/3.12/lib/python/site-packages/IPython/core/formatters.py:182\u001b[0m, in \u001b[0;36mDisplayFormatter.format\u001b[0;34m(self, obj, include, exclude)\u001b[0m\n\u001b[1;32m    180\u001b[0m md \u001b[38;5;241m=\u001b[39m \u001b[38;5;28;01mNone\u001b[39;00m\n\u001b[1;32m    181\u001b[0m \u001b[38;5;28;01mtry\u001b[39;00m:\n\u001b[0;32m--> 182\u001b[0m     data \u001b[38;5;241m=\u001b[39m \u001b[43mformatter\u001b[49m\u001b[43m(\u001b[49m\u001b[43mobj\u001b[49m\u001b[43m)\u001b[49m\n\u001b[1;32m    183\u001b[0m \u001b[38;5;28;01mexcept\u001b[39;00m:\n\u001b[1;32m    184\u001b[0m     \u001b[38;5;66;03m# FIXME: log the exception\u001b[39;00m\n\u001b[1;32m    185\u001b[0m     \u001b[38;5;28;01mraise\u001b[39;00m\n",
            "File \u001b[0;32m~/Library/Python/3.12/lib/python/site-packages/decorator.py:232\u001b[0m, in \u001b[0;36mdecorate.<locals>.fun\u001b[0;34m(*args, **kw)\u001b[0m\n\u001b[1;32m    230\u001b[0m \u001b[38;5;28;01mif\u001b[39;00m \u001b[38;5;129;01mnot\u001b[39;00m kwsyntax:\n\u001b[1;32m    231\u001b[0m     args, kw \u001b[38;5;241m=\u001b[39m fix(args, kw, sig)\n\u001b[0;32m--> 232\u001b[0m \u001b[38;5;28;01mreturn\u001b[39;00m \u001b[43mcaller\u001b[49m\u001b[43m(\u001b[49m\u001b[43mfunc\u001b[49m\u001b[43m,\u001b[49m\u001b[43m \u001b[49m\u001b[38;5;241;43m*\u001b[39;49m\u001b[43m(\u001b[49m\u001b[43mextras\u001b[49m\u001b[43m \u001b[49m\u001b[38;5;241;43m+\u001b[39;49m\u001b[43m \u001b[49m\u001b[43margs\u001b[49m\u001b[43m)\u001b[49m\u001b[43m,\u001b[49m\u001b[43m \u001b[49m\u001b[38;5;241;43m*\u001b[39;49m\u001b[38;5;241;43m*\u001b[39;49m\u001b[43mkw\u001b[49m\u001b[43m)\u001b[49m\n",
            "File \u001b[0;32m~/Library/Python/3.12/lib/python/site-packages/IPython/core/formatters.py:226\u001b[0m, in \u001b[0;36mcatch_format_error\u001b[0;34m(method, self, *args, **kwargs)\u001b[0m\n\u001b[1;32m    224\u001b[0m \u001b[38;5;250m\u001b[39m\u001b[38;5;124;03m\"\"\"show traceback on failed format call\"\"\"\u001b[39;00m\n\u001b[1;32m    225\u001b[0m \u001b[38;5;28;01mtry\u001b[39;00m:\n\u001b[0;32m--> 226\u001b[0m     r \u001b[38;5;241m=\u001b[39m \u001b[43mmethod\u001b[49m\u001b[43m(\u001b[49m\u001b[38;5;28;43mself\u001b[39;49m\u001b[43m,\u001b[49m\u001b[43m \u001b[49m\u001b[38;5;241;43m*\u001b[39;49m\u001b[43margs\u001b[49m\u001b[43m,\u001b[49m\u001b[43m \u001b[49m\u001b[38;5;241;43m*\u001b[39;49m\u001b[38;5;241;43m*\u001b[39;49m\u001b[43mkwargs\u001b[49m\u001b[43m)\u001b[49m\n\u001b[1;32m    227\u001b[0m \u001b[38;5;28;01mexcept\u001b[39;00m \u001b[38;5;167;01mNotImplementedError\u001b[39;00m:\n\u001b[1;32m    228\u001b[0m     \u001b[38;5;66;03m# don't warn on NotImplementedErrors\u001b[39;00m\n\u001b[1;32m    229\u001b[0m     \u001b[38;5;28;01mreturn\u001b[39;00m \u001b[38;5;28mself\u001b[39m\u001b[38;5;241m.\u001b[39m_check_return(\u001b[38;5;28;01mNone\u001b[39;00m, args[\u001b[38;5;241m0\u001b[39m])\n",
            "File \u001b[0;32m~/Library/Python/3.12/lib/python/site-packages/IPython/core/formatters.py:343\u001b[0m, in \u001b[0;36mBaseFormatter.__call__\u001b[0;34m(self, obj)\u001b[0m\n\u001b[1;32m    341\u001b[0m     \u001b[38;5;28;01mpass\u001b[39;00m\n\u001b[1;32m    342\u001b[0m \u001b[38;5;28;01melse\u001b[39;00m:\n\u001b[0;32m--> 343\u001b[0m     \u001b[38;5;28;01mreturn\u001b[39;00m \u001b[43mprinter\u001b[49m\u001b[43m(\u001b[49m\u001b[43mobj\u001b[49m\u001b[43m)\u001b[49m\n\u001b[1;32m    344\u001b[0m \u001b[38;5;66;03m# Finally look for special method names\u001b[39;00m\n\u001b[1;32m    345\u001b[0m method \u001b[38;5;241m=\u001b[39m get_real_method(obj, \u001b[38;5;28mself\u001b[39m\u001b[38;5;241m.\u001b[39mprint_method)\n",
            "File \u001b[0;32m~/Library/Python/3.12/lib/python/site-packages/IPython/core/pylabtools.py:170\u001b[0m, in \u001b[0;36mprint_figure\u001b[0;34m(fig, fmt, bbox_inches, base64, **kwargs)\u001b[0m\n\u001b[1;32m    167\u001b[0m     \u001b[38;5;28;01mfrom\u001b[39;00m \u001b[38;5;21;01mmatplotlib\u001b[39;00m\u001b[38;5;21;01m.\u001b[39;00m\u001b[38;5;21;01mbackend_bases\u001b[39;00m \u001b[38;5;28;01mimport\u001b[39;00m FigureCanvasBase\n\u001b[1;32m    168\u001b[0m     FigureCanvasBase(fig)\n\u001b[0;32m--> 170\u001b[0m \u001b[43mfig\u001b[49m\u001b[38;5;241;43m.\u001b[39;49m\u001b[43mcanvas\u001b[49m\u001b[38;5;241;43m.\u001b[39;49m\u001b[43mprint_figure\u001b[49m\u001b[43m(\u001b[49m\u001b[43mbytes_io\u001b[49m\u001b[43m,\u001b[49m\u001b[43m \u001b[49m\u001b[38;5;241;43m*\u001b[39;49m\u001b[38;5;241;43m*\u001b[39;49m\u001b[43mkw\u001b[49m\u001b[43m)\u001b[49m\n\u001b[1;32m    171\u001b[0m data \u001b[38;5;241m=\u001b[39m bytes_io\u001b[38;5;241m.\u001b[39mgetvalue()\n\u001b[1;32m    172\u001b[0m \u001b[38;5;28;01mif\u001b[39;00m fmt \u001b[38;5;241m==\u001b[39m \u001b[38;5;124m'\u001b[39m\u001b[38;5;124msvg\u001b[39m\u001b[38;5;124m'\u001b[39m:\n",
            "File \u001b[0;32m/Library/Frameworks/Python.framework/Versions/3.12/lib/python3.12/site-packages/matplotlib/backend_bases.py:2189\u001b[0m, in \u001b[0;36mFigureCanvasBase.print_figure\u001b[0;34m(self, filename, dpi, facecolor, edgecolor, orientation, format, bbox_inches, pad_inches, bbox_extra_artists, backend, **kwargs)\u001b[0m\n\u001b[1;32m   2186\u001b[0m     \u001b[38;5;66;03m# we do this instead of `self.figure.draw_without_rendering`\u001b[39;00m\n\u001b[1;32m   2187\u001b[0m     \u001b[38;5;66;03m# so that we can inject the orientation\u001b[39;00m\n\u001b[1;32m   2188\u001b[0m     \u001b[38;5;28;01mwith\u001b[39;00m \u001b[38;5;28mgetattr\u001b[39m(renderer, \u001b[38;5;124m\"\u001b[39m\u001b[38;5;124m_draw_disabled\u001b[39m\u001b[38;5;124m\"\u001b[39m, nullcontext)():\n\u001b[0;32m-> 2189\u001b[0m         \u001b[38;5;28;43mself\u001b[39;49m\u001b[38;5;241;43m.\u001b[39;49m\u001b[43mfigure\u001b[49m\u001b[38;5;241;43m.\u001b[39;49m\u001b[43mdraw\u001b[49m\u001b[43m(\u001b[49m\u001b[43mrenderer\u001b[49m\u001b[43m)\u001b[49m\n\u001b[1;32m   2190\u001b[0m \u001b[38;5;28;01mif\u001b[39;00m bbox_inches:\n\u001b[1;32m   2191\u001b[0m     \u001b[38;5;28;01mif\u001b[39;00m bbox_inches \u001b[38;5;241m==\u001b[39m \u001b[38;5;124m\"\u001b[39m\u001b[38;5;124mtight\u001b[39m\u001b[38;5;124m\"\u001b[39m:\n",
            "File \u001b[0;32m/Library/Frameworks/Python.framework/Versions/3.12/lib/python3.12/site-packages/matplotlib/artist.py:95\u001b[0m, in \u001b[0;36m_finalize_rasterization.<locals>.draw_wrapper\u001b[0;34m(artist, renderer, *args, **kwargs)\u001b[0m\n\u001b[1;32m     93\u001b[0m \u001b[38;5;129m@wraps\u001b[39m(draw)\n\u001b[1;32m     94\u001b[0m \u001b[38;5;28;01mdef\u001b[39;00m \u001b[38;5;21mdraw_wrapper\u001b[39m(artist, renderer, \u001b[38;5;241m*\u001b[39margs, \u001b[38;5;241m*\u001b[39m\u001b[38;5;241m*\u001b[39mkwargs):\n\u001b[0;32m---> 95\u001b[0m     result \u001b[38;5;241m=\u001b[39m \u001b[43mdraw\u001b[49m\u001b[43m(\u001b[49m\u001b[43martist\u001b[49m\u001b[43m,\u001b[49m\u001b[43m \u001b[49m\u001b[43mrenderer\u001b[49m\u001b[43m,\u001b[49m\u001b[43m \u001b[49m\u001b[38;5;241;43m*\u001b[39;49m\u001b[43margs\u001b[49m\u001b[43m,\u001b[49m\u001b[43m \u001b[49m\u001b[38;5;241;43m*\u001b[39;49m\u001b[38;5;241;43m*\u001b[39;49m\u001b[43mkwargs\u001b[49m\u001b[43m)\u001b[49m\n\u001b[1;32m     96\u001b[0m     \u001b[38;5;28;01mif\u001b[39;00m renderer\u001b[38;5;241m.\u001b[39m_rasterizing:\n\u001b[1;32m     97\u001b[0m         renderer\u001b[38;5;241m.\u001b[39mstop_rasterizing()\n",
            "File \u001b[0;32m/Library/Frameworks/Python.framework/Versions/3.12/lib/python3.12/site-packages/matplotlib/artist.py:72\u001b[0m, in \u001b[0;36mallow_rasterization.<locals>.draw_wrapper\u001b[0;34m(artist, renderer)\u001b[0m\n\u001b[1;32m     69\u001b[0m     \u001b[38;5;28;01mif\u001b[39;00m artist\u001b[38;5;241m.\u001b[39mget_agg_filter() \u001b[38;5;129;01mis\u001b[39;00m \u001b[38;5;129;01mnot\u001b[39;00m \u001b[38;5;28;01mNone\u001b[39;00m:\n\u001b[1;32m     70\u001b[0m         renderer\u001b[38;5;241m.\u001b[39mstart_filter()\n\u001b[0;32m---> 72\u001b[0m     \u001b[38;5;28;01mreturn\u001b[39;00m \u001b[43mdraw\u001b[49m\u001b[43m(\u001b[49m\u001b[43martist\u001b[49m\u001b[43m,\u001b[49m\u001b[43m \u001b[49m\u001b[43mrenderer\u001b[49m\u001b[43m)\u001b[49m\n\u001b[1;32m     73\u001b[0m \u001b[38;5;28;01mfinally\u001b[39;00m:\n\u001b[1;32m     74\u001b[0m     \u001b[38;5;28;01mif\u001b[39;00m artist\u001b[38;5;241m.\u001b[39mget_agg_filter() \u001b[38;5;129;01mis\u001b[39;00m \u001b[38;5;129;01mnot\u001b[39;00m \u001b[38;5;28;01mNone\u001b[39;00m:\n",
            "File \u001b[0;32m/Library/Frameworks/Python.framework/Versions/3.12/lib/python3.12/site-packages/matplotlib/figure.py:3155\u001b[0m, in \u001b[0;36mFigure.draw\u001b[0;34m(self, renderer)\u001b[0m\n\u001b[1;32m   3152\u001b[0m             \u001b[38;5;66;03m# ValueError can occur when resizing a window.\u001b[39;00m\n\u001b[1;32m   3154\u001b[0m     \u001b[38;5;28mself\u001b[39m\u001b[38;5;241m.\u001b[39mpatch\u001b[38;5;241m.\u001b[39mdraw(renderer)\n\u001b[0;32m-> 3155\u001b[0m     \u001b[43mmimage\u001b[49m\u001b[38;5;241;43m.\u001b[39;49m\u001b[43m_draw_list_compositing_images\u001b[49m\u001b[43m(\u001b[49m\n\u001b[1;32m   3156\u001b[0m \u001b[43m        \u001b[49m\u001b[43mrenderer\u001b[49m\u001b[43m,\u001b[49m\u001b[43m \u001b[49m\u001b[38;5;28;43mself\u001b[39;49m\u001b[43m,\u001b[49m\u001b[43m \u001b[49m\u001b[43martists\u001b[49m\u001b[43m,\u001b[49m\u001b[43m \u001b[49m\u001b[38;5;28;43mself\u001b[39;49m\u001b[38;5;241;43m.\u001b[39;49m\u001b[43msuppressComposite\u001b[49m\u001b[43m)\u001b[49m\n\u001b[1;32m   3158\u001b[0m     renderer\u001b[38;5;241m.\u001b[39mclose_group(\u001b[38;5;124m'\u001b[39m\u001b[38;5;124mfigure\u001b[39m\u001b[38;5;124m'\u001b[39m)\n\u001b[1;32m   3159\u001b[0m \u001b[38;5;28;01mfinally\u001b[39;00m:\n",
            "File \u001b[0;32m/Library/Frameworks/Python.framework/Versions/3.12/lib/python3.12/site-packages/matplotlib/image.py:132\u001b[0m, in \u001b[0;36m_draw_list_compositing_images\u001b[0;34m(renderer, parent, artists, suppress_composite)\u001b[0m\n\u001b[1;32m    130\u001b[0m \u001b[38;5;28;01mif\u001b[39;00m not_composite \u001b[38;5;129;01mor\u001b[39;00m \u001b[38;5;129;01mnot\u001b[39;00m has_images:\n\u001b[1;32m    131\u001b[0m     \u001b[38;5;28;01mfor\u001b[39;00m a \u001b[38;5;129;01min\u001b[39;00m artists:\n\u001b[0;32m--> 132\u001b[0m         \u001b[43ma\u001b[49m\u001b[38;5;241;43m.\u001b[39;49m\u001b[43mdraw\u001b[49m\u001b[43m(\u001b[49m\u001b[43mrenderer\u001b[49m\u001b[43m)\u001b[49m\n\u001b[1;32m    133\u001b[0m \u001b[38;5;28;01melse\u001b[39;00m:\n\u001b[1;32m    134\u001b[0m     \u001b[38;5;66;03m# Composite any adjacent images together\u001b[39;00m\n\u001b[1;32m    135\u001b[0m     image_group \u001b[38;5;241m=\u001b[39m []\n",
            "File \u001b[0;32m/Library/Frameworks/Python.framework/Versions/3.12/lib/python3.12/site-packages/matplotlib/artist.py:72\u001b[0m, in \u001b[0;36mallow_rasterization.<locals>.draw_wrapper\u001b[0;34m(artist, renderer)\u001b[0m\n\u001b[1;32m     69\u001b[0m     \u001b[38;5;28;01mif\u001b[39;00m artist\u001b[38;5;241m.\u001b[39mget_agg_filter() \u001b[38;5;129;01mis\u001b[39;00m \u001b[38;5;129;01mnot\u001b[39;00m \u001b[38;5;28;01mNone\u001b[39;00m:\n\u001b[1;32m     70\u001b[0m         renderer\u001b[38;5;241m.\u001b[39mstart_filter()\n\u001b[0;32m---> 72\u001b[0m     \u001b[38;5;28;01mreturn\u001b[39;00m \u001b[43mdraw\u001b[49m\u001b[43m(\u001b[49m\u001b[43martist\u001b[49m\u001b[43m,\u001b[49m\u001b[43m \u001b[49m\u001b[43mrenderer\u001b[49m\u001b[43m)\u001b[49m\n\u001b[1;32m     73\u001b[0m \u001b[38;5;28;01mfinally\u001b[39;00m:\n\u001b[1;32m     74\u001b[0m     \u001b[38;5;28;01mif\u001b[39;00m artist\u001b[38;5;241m.\u001b[39mget_agg_filter() \u001b[38;5;129;01mis\u001b[39;00m \u001b[38;5;129;01mnot\u001b[39;00m \u001b[38;5;28;01mNone\u001b[39;00m:\n",
            "File \u001b[0;32m/Library/Frameworks/Python.framework/Versions/3.12/lib/python3.12/site-packages/matplotlib/axes/_base.py:3109\u001b[0m, in \u001b[0;36m_AxesBase.draw\u001b[0;34m(self, renderer)\u001b[0m\n\u001b[1;32m   3106\u001b[0m \u001b[38;5;28;01mif\u001b[39;00m artists_rasterized:\n\u001b[1;32m   3107\u001b[0m     _draw_rasterized(\u001b[38;5;28mself\u001b[39m\u001b[38;5;241m.\u001b[39mfigure, artists_rasterized, renderer)\n\u001b[0;32m-> 3109\u001b[0m \u001b[43mmimage\u001b[49m\u001b[38;5;241;43m.\u001b[39;49m\u001b[43m_draw_list_compositing_images\u001b[49m\u001b[43m(\u001b[49m\n\u001b[1;32m   3110\u001b[0m \u001b[43m    \u001b[49m\u001b[43mrenderer\u001b[49m\u001b[43m,\u001b[49m\u001b[43m \u001b[49m\u001b[38;5;28;43mself\u001b[39;49m\u001b[43m,\u001b[49m\u001b[43m \u001b[49m\u001b[43martists\u001b[49m\u001b[43m,\u001b[49m\u001b[43m \u001b[49m\u001b[38;5;28;43mself\u001b[39;49m\u001b[38;5;241;43m.\u001b[39;49m\u001b[43mfigure\u001b[49m\u001b[38;5;241;43m.\u001b[39;49m\u001b[43msuppressComposite\u001b[49m\u001b[43m)\u001b[49m\n\u001b[1;32m   3112\u001b[0m renderer\u001b[38;5;241m.\u001b[39mclose_group(\u001b[38;5;124m'\u001b[39m\u001b[38;5;124maxes\u001b[39m\u001b[38;5;124m'\u001b[39m)\n\u001b[1;32m   3113\u001b[0m \u001b[38;5;28mself\u001b[39m\u001b[38;5;241m.\u001b[39mstale \u001b[38;5;241m=\u001b[39m \u001b[38;5;28;01mFalse\u001b[39;00m\n",
            "File \u001b[0;32m/Library/Frameworks/Python.framework/Versions/3.12/lib/python3.12/site-packages/matplotlib/image.py:132\u001b[0m, in \u001b[0;36m_draw_list_compositing_images\u001b[0;34m(renderer, parent, artists, suppress_composite)\u001b[0m\n\u001b[1;32m    130\u001b[0m \u001b[38;5;28;01mif\u001b[39;00m not_composite \u001b[38;5;129;01mor\u001b[39;00m \u001b[38;5;129;01mnot\u001b[39;00m has_images:\n\u001b[1;32m    131\u001b[0m     \u001b[38;5;28;01mfor\u001b[39;00m a \u001b[38;5;129;01min\u001b[39;00m artists:\n\u001b[0;32m--> 132\u001b[0m         \u001b[43ma\u001b[49m\u001b[38;5;241;43m.\u001b[39;49m\u001b[43mdraw\u001b[49m\u001b[43m(\u001b[49m\u001b[43mrenderer\u001b[49m\u001b[43m)\u001b[49m\n\u001b[1;32m    133\u001b[0m \u001b[38;5;28;01melse\u001b[39;00m:\n\u001b[1;32m    134\u001b[0m     \u001b[38;5;66;03m# Composite any adjacent images together\u001b[39;00m\n\u001b[1;32m    135\u001b[0m     image_group \u001b[38;5;241m=\u001b[39m []\n",
            "File \u001b[0;32m/Library/Frameworks/Python.framework/Versions/3.12/lib/python3.12/site-packages/matplotlib/artist.py:72\u001b[0m, in \u001b[0;36mallow_rasterization.<locals>.draw_wrapper\u001b[0;34m(artist, renderer)\u001b[0m\n\u001b[1;32m     69\u001b[0m     \u001b[38;5;28;01mif\u001b[39;00m artist\u001b[38;5;241m.\u001b[39mget_agg_filter() \u001b[38;5;129;01mis\u001b[39;00m \u001b[38;5;129;01mnot\u001b[39;00m \u001b[38;5;28;01mNone\u001b[39;00m:\n\u001b[1;32m     70\u001b[0m         renderer\u001b[38;5;241m.\u001b[39mstart_filter()\n\u001b[0;32m---> 72\u001b[0m     \u001b[38;5;28;01mreturn\u001b[39;00m \u001b[43mdraw\u001b[49m\u001b[43m(\u001b[49m\u001b[43martist\u001b[49m\u001b[43m,\u001b[49m\u001b[43m \u001b[49m\u001b[43mrenderer\u001b[49m\u001b[43m)\u001b[49m\n\u001b[1;32m     73\u001b[0m \u001b[38;5;28;01mfinally\u001b[39;00m:\n\u001b[1;32m     74\u001b[0m     \u001b[38;5;28;01mif\u001b[39;00m artist\u001b[38;5;241m.\u001b[39mget_agg_filter() \u001b[38;5;129;01mis\u001b[39;00m \u001b[38;5;129;01mnot\u001b[39;00m \u001b[38;5;28;01mNone\u001b[39;00m:\n",
            "File \u001b[0;32m/Library/Frameworks/Python.framework/Versions/3.12/lib/python3.12/site-packages/matplotlib/axis.py:1426\u001b[0m, in \u001b[0;36mAxis.draw\u001b[0;34m(self, renderer)\u001b[0m\n\u001b[1;32m   1423\u001b[0m tlb1, tlb2 \u001b[38;5;241m=\u001b[39m \u001b[38;5;28mself\u001b[39m\u001b[38;5;241m.\u001b[39m_get_ticklabel_bboxes(ticks_to_draw, renderer)\n\u001b[1;32m   1425\u001b[0m \u001b[38;5;28;01mfor\u001b[39;00m tick \u001b[38;5;129;01min\u001b[39;00m ticks_to_draw:\n\u001b[0;32m-> 1426\u001b[0m     \u001b[43mtick\u001b[49m\u001b[38;5;241;43m.\u001b[39;49m\u001b[43mdraw\u001b[49m\u001b[43m(\u001b[49m\u001b[43mrenderer\u001b[49m\u001b[43m)\u001b[49m\n\u001b[1;32m   1428\u001b[0m \u001b[38;5;66;03m# Shift label away from axes to avoid overlapping ticklabels.\u001b[39;00m\n\u001b[1;32m   1429\u001b[0m \u001b[38;5;28mself\u001b[39m\u001b[38;5;241m.\u001b[39m_update_label_position(renderer)\n",
            "File \u001b[0;32m/Library/Frameworks/Python.framework/Versions/3.12/lib/python3.12/site-packages/matplotlib/artist.py:72\u001b[0m, in \u001b[0;36mallow_rasterization.<locals>.draw_wrapper\u001b[0;34m(artist, renderer)\u001b[0m\n\u001b[1;32m     69\u001b[0m     \u001b[38;5;28;01mif\u001b[39;00m artist\u001b[38;5;241m.\u001b[39mget_agg_filter() \u001b[38;5;129;01mis\u001b[39;00m \u001b[38;5;129;01mnot\u001b[39;00m \u001b[38;5;28;01mNone\u001b[39;00m:\n\u001b[1;32m     70\u001b[0m         renderer\u001b[38;5;241m.\u001b[39mstart_filter()\n\u001b[0;32m---> 72\u001b[0m     \u001b[38;5;28;01mreturn\u001b[39;00m \u001b[43mdraw\u001b[49m\u001b[43m(\u001b[49m\u001b[43martist\u001b[49m\u001b[43m,\u001b[49m\u001b[43m \u001b[49m\u001b[43mrenderer\u001b[49m\u001b[43m)\u001b[49m\n\u001b[1;32m     73\u001b[0m \u001b[38;5;28;01mfinally\u001b[39;00m:\n\u001b[1;32m     74\u001b[0m     \u001b[38;5;28;01mif\u001b[39;00m artist\u001b[38;5;241m.\u001b[39mget_agg_filter() \u001b[38;5;129;01mis\u001b[39;00m \u001b[38;5;129;01mnot\u001b[39;00m \u001b[38;5;28;01mNone\u001b[39;00m:\n",
            "File \u001b[0;32m/Library/Frameworks/Python.framework/Versions/3.12/lib/python3.12/site-packages/matplotlib/axis.py:280\u001b[0m, in \u001b[0;36mTick.draw\u001b[0;34m(self, renderer)\u001b[0m\n\u001b[1;32m    277\u001b[0m renderer\u001b[38;5;241m.\u001b[39mopen_group(\u001b[38;5;28mself\u001b[39m\u001b[38;5;241m.\u001b[39m\u001b[38;5;18m__name__\u001b[39m, gid\u001b[38;5;241m=\u001b[39m\u001b[38;5;28mself\u001b[39m\u001b[38;5;241m.\u001b[39mget_gid())\n\u001b[1;32m    278\u001b[0m \u001b[38;5;28;01mfor\u001b[39;00m artist \u001b[38;5;129;01min\u001b[39;00m [\u001b[38;5;28mself\u001b[39m\u001b[38;5;241m.\u001b[39mgridline, \u001b[38;5;28mself\u001b[39m\u001b[38;5;241m.\u001b[39mtick1line, \u001b[38;5;28mself\u001b[39m\u001b[38;5;241m.\u001b[39mtick2line,\n\u001b[1;32m    279\u001b[0m                \u001b[38;5;28mself\u001b[39m\u001b[38;5;241m.\u001b[39mlabel1, \u001b[38;5;28mself\u001b[39m\u001b[38;5;241m.\u001b[39mlabel2]:\n\u001b[0;32m--> 280\u001b[0m     \u001b[43martist\u001b[49m\u001b[38;5;241;43m.\u001b[39;49m\u001b[43mdraw\u001b[49m\u001b[43m(\u001b[49m\u001b[43mrenderer\u001b[49m\u001b[43m)\u001b[49m\n\u001b[1;32m    281\u001b[0m renderer\u001b[38;5;241m.\u001b[39mclose_group(\u001b[38;5;28mself\u001b[39m\u001b[38;5;241m.\u001b[39m\u001b[38;5;18m__name__\u001b[39m)\n\u001b[1;32m    282\u001b[0m \u001b[38;5;28mself\u001b[39m\u001b[38;5;241m.\u001b[39mstale \u001b[38;5;241m=\u001b[39m \u001b[38;5;28;01mFalse\u001b[39;00m\n",
            "File \u001b[0;32m/Library/Frameworks/Python.framework/Versions/3.12/lib/python3.12/site-packages/matplotlib/artist.py:72\u001b[0m, in \u001b[0;36mallow_rasterization.<locals>.draw_wrapper\u001b[0;34m(artist, renderer)\u001b[0m\n\u001b[1;32m     69\u001b[0m     \u001b[38;5;28;01mif\u001b[39;00m artist\u001b[38;5;241m.\u001b[39mget_agg_filter() \u001b[38;5;129;01mis\u001b[39;00m \u001b[38;5;129;01mnot\u001b[39;00m \u001b[38;5;28;01mNone\u001b[39;00m:\n\u001b[1;32m     70\u001b[0m         renderer\u001b[38;5;241m.\u001b[39mstart_filter()\n\u001b[0;32m---> 72\u001b[0m     \u001b[38;5;28;01mreturn\u001b[39;00m \u001b[43mdraw\u001b[49m\u001b[43m(\u001b[49m\u001b[43martist\u001b[49m\u001b[43m,\u001b[49m\u001b[43m \u001b[49m\u001b[43mrenderer\u001b[49m\u001b[43m)\u001b[49m\n\u001b[1;32m     73\u001b[0m \u001b[38;5;28;01mfinally\u001b[39;00m:\n\u001b[1;32m     74\u001b[0m     \u001b[38;5;28;01mif\u001b[39;00m artist\u001b[38;5;241m.\u001b[39mget_agg_filter() \u001b[38;5;129;01mis\u001b[39;00m \u001b[38;5;129;01mnot\u001b[39;00m \u001b[38;5;28;01mNone\u001b[39;00m:\n",
            "File \u001b[0;32m/Library/Frameworks/Python.framework/Versions/3.12/lib/python3.12/site-packages/matplotlib/lines.py:819\u001b[0m, in \u001b[0;36mLine2D.draw\u001b[0;34m(self, renderer)\u001b[0m\n\u001b[1;32m    814\u001b[0m gc\u001b[38;5;241m.\u001b[39mset_antialiased(\u001b[38;5;28mself\u001b[39m\u001b[38;5;241m.\u001b[39m_antialiased)\n\u001b[1;32m    816\u001b[0m ec_rgba \u001b[38;5;241m=\u001b[39m mcolors\u001b[38;5;241m.\u001b[39mto_rgba(\n\u001b[1;32m    817\u001b[0m     \u001b[38;5;28mself\u001b[39m\u001b[38;5;241m.\u001b[39mget_markeredgecolor(), \u001b[38;5;28mself\u001b[39m\u001b[38;5;241m.\u001b[39m_alpha)\n\u001b[1;32m    818\u001b[0m fc_rgba \u001b[38;5;241m=\u001b[39m mcolors\u001b[38;5;241m.\u001b[39mto_rgba(\n\u001b[0;32m--> 819\u001b[0m     \u001b[38;5;28;43mself\u001b[39;49m\u001b[38;5;241;43m.\u001b[39;49m\u001b[43m_get_markerfacecolor\u001b[49m\u001b[43m(\u001b[49m\u001b[43m)\u001b[49m, \u001b[38;5;28mself\u001b[39m\u001b[38;5;241m.\u001b[39m_alpha)\n\u001b[1;32m    820\u001b[0m fcalt_rgba \u001b[38;5;241m=\u001b[39m mcolors\u001b[38;5;241m.\u001b[39mto_rgba(\n\u001b[1;32m    821\u001b[0m     \u001b[38;5;28mself\u001b[39m\u001b[38;5;241m.\u001b[39m_get_markerfacecolor(alt\u001b[38;5;241m=\u001b[39m\u001b[38;5;28;01mTrue\u001b[39;00m), \u001b[38;5;28mself\u001b[39m\u001b[38;5;241m.\u001b[39m_alpha)\n\u001b[1;32m    822\u001b[0m \u001b[38;5;66;03m# If the edgecolor is \"auto\", it is set according to the *line*\u001b[39;00m\n\u001b[1;32m    823\u001b[0m \u001b[38;5;66;03m# color but inherits the alpha value of the *face* color, if any.\u001b[39;00m\n",
            "File \u001b[0;32m/Library/Frameworks/Python.framework/Versions/3.12/lib/python3.12/site-packages/matplotlib/lines.py:968\u001b[0m, in \u001b[0;36mLine2D._get_markerfacecolor\u001b[0;34m(self, alt)\u001b[0m\n\u001b[1;32m    967\u001b[0m \u001b[38;5;28;01mdef\u001b[39;00m \u001b[38;5;21m_get_markerfacecolor\u001b[39m(\u001b[38;5;28mself\u001b[39m, alt\u001b[38;5;241m=\u001b[39m\u001b[38;5;28;01mFalse\u001b[39;00m):\n\u001b[0;32m--> 968\u001b[0m     \u001b[38;5;28;01mif\u001b[39;00m \u001b[38;5;28;43mself\u001b[39;49m\u001b[38;5;241;43m.\u001b[39;49m\u001b[43m_marker\u001b[49m\u001b[38;5;241;43m.\u001b[39;49m\u001b[43mget_fillstyle\u001b[49m\u001b[43m(\u001b[49m\u001b[43m)\u001b[49m \u001b[38;5;241m==\u001b[39m \u001b[38;5;124m'\u001b[39m\u001b[38;5;124mnone\u001b[39m\u001b[38;5;124m'\u001b[39m:\n\u001b[1;32m    969\u001b[0m         \u001b[38;5;28;01mreturn\u001b[39;00m \u001b[38;5;124m'\u001b[39m\u001b[38;5;124mnone\u001b[39m\u001b[38;5;124m'\u001b[39m\n\u001b[1;32m    970\u001b[0m     fc \u001b[38;5;241m=\u001b[39m \u001b[38;5;28mself\u001b[39m\u001b[38;5;241m.\u001b[39m_markerfacecoloralt \u001b[38;5;28;01mif\u001b[39;00m alt \u001b[38;5;28;01melse\u001b[39;00m \u001b[38;5;28mself\u001b[39m\u001b[38;5;241m.\u001b[39m_markerfacecolor\n",
            "File \u001b[0;32m/Library/Frameworks/Python.framework/Versions/3.12/lib/python3.12/site-packages/matplotlib/markers.py:272\u001b[0m, in \u001b[0;36mMarkerStyle.get_fillstyle\u001b[0;34m(self)\u001b[0m\n\u001b[1;32m    269\u001b[0m \u001b[38;5;28;01mdef\u001b[39;00m \u001b[38;5;21mis_filled\u001b[39m(\u001b[38;5;28mself\u001b[39m):\n\u001b[1;32m    270\u001b[0m     \u001b[38;5;28;01mreturn\u001b[39;00m \u001b[38;5;28mself\u001b[39m\u001b[38;5;241m.\u001b[39m_filled\n\u001b[0;32m--> 272\u001b[0m \u001b[38;5;28;01mdef\u001b[39;00m \u001b[38;5;21mget_fillstyle\u001b[39m(\u001b[38;5;28mself\u001b[39m):\n\u001b[1;32m    273\u001b[0m     \u001b[38;5;28;01mreturn\u001b[39;00m \u001b[38;5;28mself\u001b[39m\u001b[38;5;241m.\u001b[39m_fillstyle\n\u001b[1;32m    275\u001b[0m \u001b[38;5;28;01mdef\u001b[39;00m \u001b[38;5;21m_set_fillstyle\u001b[39m(\u001b[38;5;28mself\u001b[39m, fillstyle):\n",
            "\u001b[0;31mKeyboardInterrupt\u001b[0m: "
          ]
        }
      ],
      "source": [
        "plt.figure(figsize=(15,6))\n",
        "plt.plot(data.index,data['TRPMILES'],label='Miles Travled')\n",
        "plt.title('Miles traveled over time')\n",
        "plt.xlabel('Time')\n",
        "plt.ylabel('Miles')\n",
        "plt.legend()\n",
        "plt.show()"
      ]
    },
    {
      "cell_type": "markdown",
      "metadata": {
        "id": "Px0ePGyPnUNP"
      },
      "source": [
        "# **Data Preprocessing part 2**"
      ]
    },
    {
      "cell_type": "code",
      "execution_count": 19,
      "metadata": {
        "colab": {
          "base_uri": "https://localhost:8080/"
        },
        "id": "27iWTOB49mqV",
        "outputId": "b19503de-5b7d-4d80-891f-b11f881fb8cd"
      },
      "outputs": [
        {
          "data": {
            "text/plain": [
              "STRTDATETIME\n",
              "2022-02 14:35    2022-02 14:35\n",
              "2022-02 16:05    2022-02 16:05\n",
              "2022-02 07:00    2022-02 07:00\n",
              "2022-02 07:40    2022-02 07:40\n",
              "2022-02 08:00    2022-02 08:00\n",
              "Name: STRTDATETIME, dtype: object"
            ]
          },
          "execution_count": 19,
          "metadata": {},
          "output_type": "execute_result"
        }
      ],
      "source": [
        "start_time_series = data['STRTDATETIME']\n",
        "end_time_series = data['ENDDATETIME']\n",
        "trpmiles_series = data['TRPMILES']\n",
        "start_time_series.head()"
      ]
    },
    {
      "cell_type": "code",
      "execution_count": 20,
      "metadata": {
        "colab": {
          "base_uri": "https://localhost:8080/"
        },
        "id": "QWg2G2f-9-CM",
        "outputId": "21366b84-d599-4a5e-b502-7a243d307203"
      },
      "outputs": [
        {
          "data": {
            "text/plain": [
              "URBRUR                 int64\n",
              "URBANSIZE              int64\n",
              "TRAVDAY                int64\n",
              "TDAYDATE              object\n",
              "STRTTIME              object\n",
              "ENDTIME               object\n",
              "TRPMILES             float64\n",
              "VEHID                  int64\n",
              "WRKTRANS             float64\n",
              "STRTDATETIME_UNIX      int64\n",
              "ENDDATETIME_UNIX       int64\n",
              "STRTDATETIME          object\n",
              "ENDDATETIME           object\n",
              "dtype: object"
            ]
          },
          "execution_count": 20,
          "metadata": {},
          "output_type": "execute_result"
        }
      ],
      "source": [
        "data.dtypes"
      ]
    },
    {
      "cell_type": "code",
      "execution_count": 22,
      "metadata": {
        "colab": {
          "base_uri": "https://localhost:8080/",
          "height": 559
        },
        "id": "LX79pH7CnXpe",
        "outputId": "ae853df9-5d47-4e16-f920-818a28d22101"
      },
      "outputs": [
        {
          "name": "stdout",
          "output_type": "stream",
          "text": [
            "ADF Statistic: -40.33971165518408\n",
            "p-value: 0.0\n",
            "Critical Values:\n",
            "\t1%: -3.430560561851238\n",
            "\t5%: -2.8616330627632154\n",
            "\t10%: -2.566819534448655\n"
          ]
        },
        {
          "data": {
            "image/png": "[encoded data removed]",
            "text/plain": [
              "<Figure size 640x480 with 1 Axes>"
            ]
          },
          "metadata": {},
          "output_type": "display_data"
        }
      ],
      "source": [
        "from statsmodels.tsa.stattools import adfuller\n",
        "\n",
        "def check_stationarity(ts):\n",
        "    # Example ADF test\n",
        "    result = adfuller(ts)\n",
        "    print('ADF Statistic:', result[0])\n",
        "    print('p-value:', result[1])\n",
        "    print('Critical Values:')\n",
        "    for key, value in result[4].items():\n",
        "        print(f'\\t{key}: {value}')\n",
        "\n",
        "    # Plotting rolling statistics\n",
        "    rolling_mean = ts.rolling(window=12).mean()\n",
        "    rolling_std = ts.rolling(window=12).std()\n",
        "\n",
        "    plt.plot(ts, color='blue', label='Original')\n",
        "    plt.plot(rolling_mean, color='red', label='Rolling Mean')\n",
        "    plt.plot(rolling_std, color='black', label='Rolling Std')\n",
        "    plt.legend()\n",
        "    plt.title('Rolling Mean & Standard Deviation')\n",
        "    plt.show()\n",
        "\n",
        "# Example: Check stationarity for TRPMILES\n",
        "check_stationarity(data['TRPMILES'])"
      ]
    },
    {
      "cell_type": "markdown",
      "metadata": {
        "id": "2tcK-Sn7n-BR"
      },
      "source": [
        "# **Model Building**"
      ]
    },
    {
      "cell_type": "code",
      "execution_count": 31,
      "metadata": {
        "colab": {
          "base_uri": "https://localhost:8080/"
        },
        "id": "B3YdiDZFoDWf",
        "outputId": "83f4a460-019b-497a-bf1a-3674fc851aec"
      },
      "outputs": [
        {
          "name": "stderr",
          "output_type": "stream",
          "text": [
            "/Library/Frameworks/Python.framework/Versions/3.12/lib/python3.12/site-packages/statsmodels/tsa/base/tsa_model.py:559: UserWarning: Could not infer format, so each element will be parsed individually, falling back to `dateutil`. To ensure parsing is consistent and as-expected, please specify a format.\n",
            "  _index = to_datetime(index)\n",
            "/Library/Frameworks/Python.framework/Versions/3.12/lib/python3.12/site-packages/statsmodels/tsa/base/tsa_model.py:473: ValueWarning: A date index has been provided, but it has no associated frequency information and so will be ignored when e.g. forecasting.\n",
            "  self._init_dates(dates, freq)\n",
            "/Library/Frameworks/Python.framework/Versions/3.12/lib/python3.12/site-packages/statsmodels/tsa/base/tsa_model.py:473: ValueWarning: A date index has been provided, but it is not monotonic and so will be ignored when e.g. forecasting.\n",
            "  self._init_dates(dates, freq)\n",
            "/Library/Frameworks/Python.framework/Versions/3.12/lib/python3.12/site-packages/statsmodels/tsa/base/tsa_model.py:559: UserWarning: Could not infer format, so each element will be parsed individually, falling back to `dateutil`. To ensure parsing is consistent and as-expected, please specify a format.\n",
            "  _index = to_datetime(index)\n",
            "/Library/Frameworks/Python.framework/Versions/3.12/lib/python3.12/site-packages/statsmodels/tsa/base/tsa_model.py:473: ValueWarning: A date index has been provided, but it has no associated frequency information and so will be ignored when e.g. forecasting.\n",
            "  self._init_dates(dates, freq)\n",
            "/Library/Frameworks/Python.framework/Versions/3.12/lib/python3.12/site-packages/statsmodels/tsa/base/tsa_model.py:473: ValueWarning: A date index has been provided, but it is not monotonic and so will be ignored when e.g. forecasting.\n",
            "  self._init_dates(dates, freq)\n",
            "/Library/Frameworks/Python.framework/Versions/3.12/lib/python3.12/site-packages/statsmodels/tsa/base/tsa_model.py:559: UserWarning: Could not infer format, so each element will be parsed individually, falling back to `dateutil`. To ensure parsing is consistent and as-expected, please specify a format.\n",
            "  _index = to_datetime(index)\n",
            "/Library/Frameworks/Python.framework/Versions/3.12/lib/python3.12/site-packages/statsmodels/tsa/base/tsa_model.py:473: ValueWarning: A date index has been provided, but it has no associated frequency information and so will be ignored when e.g. forecasting.\n",
            "  self._init_dates(dates, freq)\n",
            "/Library/Frameworks/Python.framework/Versions/3.12/lib/python3.12/site-packages/statsmodels/tsa/base/tsa_model.py:473: ValueWarning: A date index has been provided, but it is not monotonic and so will be ignored when e.g. forecasting.\n",
            "  self._init_dates(dates, freq)\n"
          ]
        },
        {
          "name": "stdout",
          "output_type": "stream",
          "text": [
            "                               SARIMAX Results                                \n",
            "==============================================================================\n",
            "Dep. Variable:               TRPMILES   No. Observations:                31074\n",
            "Model:                 ARIMA(1, 1, 1)   Log Likelihood             -181821.661\n",
            "Date:                Thu, 20 Jun 2024   AIC                         363649.322\n",
            "Time:                        23:53:44   BIC                         363674.354\n",
            "Sample:                             0   HQIC                        363657.340\n",
            "                              - 31074                                         \n",
            "Covariance Type:                  opg                                         \n",
            "==============================================================================\n",
            "                 coef    std err          z      P>|z|      [0.025      0.975]\n",
            "------------------------------------------------------------------------------\n",
            "ar.L1         -0.1117      0.001   -214.297      0.000      -0.113      -0.111\n",
            "ma.L1         -0.8042      0.000  -2769.063      0.000      -0.805      -0.804\n",
            "sigma2      7079.4461      3.023   2342.184      0.000    7073.522    7085.370\n",
            "===================================================================================\n",
            "Ljung-Box (L1) (Q):                   5.82   Jarque-Bera (JB):        1100162541.27\n",
            "Prob(Q):                              0.02   Prob(JB):                         0.00\n",
            "Heteroskedasticity (H):               0.60   Skew:                            21.00\n",
            "Prob(H) (two-sided):                  0.00   Kurtosis:                       923.85\n",
            "===================================================================================\n",
            "\n",
            "Warnings:\n",
            "[1] Covariance matrix calculated using the outer product of gradients (complex-step).\n"
          ]
        }
      ],
      "source": [
        "from statsmodels.tsa.arima.model import ARIMA\n",
        "\n",
        "# Define the order of the ARIMA model (p, d, q)\n",
        "p = 1\n",
        "d = 1\n",
        "q = 1\n",
        "\n",
        "# Fit ARIMA model (example: TRPMILES time series)\n",
        "model = ARIMA(data['TRPMILES'], order=(p, d, q))\n",
        "model_fit = model.fit()\n",
        "\n",
        "# Summary of the model\n",
        "print(model_fit.summary())\n"
      ]
    },
    {
      "cell_type": "code",
      "execution_count": 43,
      "metadata": {},
      "outputs": [],
      "source": [
        "\n",
        "\n",
        "# Drop any duplicates in column names\n",
        "data = data.loc[:, ~data.columns.duplicated()]\n",
        "\n",
        "# Convert datetime columns to integer for ARIMA modeling\n",
        "data['STRTDATETIME_int'] = data['STRTDATETIME'].astype(np.int64) // 10**9\n",
        "data['ENDDATETIME_int'] = data['ENDDATETIME'].astype(np.int64) // 10**9"
      ]
    },
    {
      "cell_type": "code",
      "execution_count": 44,
      "metadata": {},
      "outputs": [
        {
          "name": "stdout",
          "output_type": "stream",
          "text": [
            "Best ARIMA parameters: (3, 0, 3) with AIC: 360297.64331401256\n",
            "Best ARIMA parameters: (3, 0, 3) with AIC: 949194.4338789851\n",
            "Best ARIMA parameters: (3, 0, 3) with AIC: 949195.0308956441\n"
          ]
        }
      ],
      "source": [
        "# Define the p, d, q parameters to take any value between 0 and 3\n",
        "p = q = range(0, 4)\n",
        "d = range(0, 2)\n",
        "pdq = [(x, y, z) for x in p for y in d for z in q]\n",
        "\n",
        "def get_best_arima_model(series):\n",
        "    best_aic = float('inf')\n",
        "    best_order = None\n",
        "    best_model = None\n",
        "\n",
        "    for param in pdq:\n",
        "        try:\n",
        "            model = ARIMA(series, order=param)\n",
        "            results = model.fit()\n",
        "            if results.aic < best_aic:\n",
        "                best_aic = results.aic\n",
        "                best_order = param\n",
        "                best_model = results\n",
        "        except:\n",
        "            continue\n",
        "\n",
        "    print(f'Best ARIMA parameters: {best_order} with AIC: {best_aic}')\n",
        "    return best_model\n",
        "\n",
        "# Get the best ARIMA models\n",
        "best_model_trpmiles = get_best_arima_model(data['TRPMILES'].dropna())\n",
        "best_model_strttime = get_best_arima_model(data['STRTDATETIME_int'].dropna())\n",
        "best_model_endtime = get_best_arima_model(data['ENDDATETIME_int'].dropna())\n"
      ]
    },
    {
      "cell_type": "code",
      "execution_count": 38,
      "metadata": {},
      "outputs": [],
      "source": [
        "data['STRTDATETIME'] = pd.to_datetime(data['STRTDATETIME'], unit='ns')\n",
        "data['ENDDATETIME'] = pd.to_datetime(data['ENDDATETIME'], unit='ns')\n"
      ]
    },
    {
      "cell_type": "code",
      "execution_count": 53,
      "metadata": {},
      "outputs": [
        {
          "name": "stdout",
          "output_type": "stream",
          "text": [
            "Actual STRTDATETIME: 2022-12-01 18:10:00, Forecasted STRTDATETIME: 2022-12-01 10:18:24.433503232, Actual TRPMILES: 1.94965817277812, Forecasted TRPMILES: 8.09313146431779, Actual ENDDATETIME: 2022-12-01 18:15:00, Forecasted ENDDATETIME: 2022-12-01 10:28:57.714929920\n",
            "Actual STRTDATETIME: 2022-12-01 18:25:00, Forecasted STRTDATETIME: 2022-12-05 01:02:48.625161728, Actual TRPMILES: 6.34742075823493, Forecasted TRPMILES: 8.489516735680041, Actual ENDDATETIME: 2022-12-01 18:40:00, Forecasted ENDDATETIME: 2022-12-05 01:15:51.332537600\n",
            "Actual STRTDATETIME: 2022-12-01 06:45:00, Forecasted STRTDATETIME: 2022-12-05 03:25:53.185348096, Actual TRPMILES: 6.58545680546924, Forecasted TRPMILES: 10.409375695141293, Actual ENDDATETIME: 2022-12-01 07:45:00, Forecasted ENDDATETIME: 2022-12-05 03:42:36.365897472\n",
            "Actual STRTDATETIME: 2022-12-01 14:30:00, Forecasted STRTDATETIME: 2022-12-07 05:36:06.337291520, Actual TRPMILES: 6.53946550652579, Forecasted TRPMILES: 11.81768730551457, Actual ENDDATETIME: 2022-12-01 15:10:00, Forecasted ENDDATETIME: 2022-12-07 05:55:44.240212224\n",
            "Actual STRTDATETIME: 2023-01-01 13:00:00, Forecasted STRTDATETIME: 2022-12-07 05:15:41.732397568, Actual TRPMILES: 1.25046612802983, Forecasted TRPMILES: 11.610709548383358, Actual ENDDATETIME: 2023-01-01 13:15:00, Forecasted ENDDATETIME: 2022-12-07 05:36:29.098899968\n",
            "Actual STRTDATETIME: 2023-01-01 13:20:00, Forecasted STRTDATETIME: 2022-12-08 10:12:17.990772224, Actual TRPMILES: 3.2958359229335, Forecasted TRPMILES: 13.181605825561666, Actual ENDDATETIME: 2023-01-01 13:35:00, Forecasted ENDDATETIME: 2022-12-08 10:35:43.265102848\n",
            "Actual STRTDATETIME: 2023-01-01 14:45:00, Forecasted STRTDATETIME: 2022-12-08 08:53:04.231388672, Actual TRPMILES: 3.05904288377874, Forecasted TRPMILES: 12.69408736592903, Actual ENDDATETIME: 2023-01-01 15:00:00, Forecasted ENDDATETIME: 2022-12-08 09:16:34.077146880\n",
            "Actual STRTDATETIME: 2022-12-01 12:30:00, Forecasted STRTDATETIME: 2022-12-09 01:29:22.551836416, Actual TRPMILES: 0.102548166563083, Forecasted TRPMILES: 13.441023730151342, Actual ENDDATETIME: 2022-12-01 12:34:00, Forecasted ENDDATETIME: 2022-12-09 01:55:00.801964800\n",
            "Actual STRTDATETIME: 2022-12-01 12:40:00, Forecasted STRTDATETIME: 2022-12-08 23:57:03.277995264, Actual TRPMILES: 0.257302672467371, Forecasted TRPMILES: 13.542542721271895, Actual ENDDATETIME: 2022-12-01 12:42:00, Forecasted ENDDATETIME: 2022-12-09 00:22:22.935269888\n",
            "Actual STRTDATETIME: 2022-12-01 13:00:00, Forecasted STRTDATETIME: 2022-12-09 09:22:27.286762752, Actual TRPMILES: 0.0, Forecasted TRPMILES: 13.459372748522581, Actual ENDDATETIME: 2022-12-01 13:02:00, Forecasted ENDDATETIME: 2022-12-09 09:49:25.853281536\n"
          ]
        }
      ],
      "source": [
        "# Forecasting future values\n",
        "forecast_steps = 10  # Number of steps to forecast\n",
        "\n",
        "forecast_trpmiles = best_model_trpmiles.forecast(steps=forecast_steps)\n",
        "forecast_strttime = best_model_strttime.forecast(steps=forecast_steps)\n",
        "forecast_endtime = best_model_endtime.forecast(steps=forecast_steps)\n",
        "\n",
        "# Convert forecasted datetime values back to datetime, rounded to the nearest second\n",
        "forecasted_strttime = pd.to_datetime(forecast_strttime * 10**9).round('S')\n",
        "forecasted_endtime = pd.to_datetime(forecast_endtime * 10**9).round('S')\n",
        "\n",
        "# Print actual and forecasted values\n",
        "actual_st = data['STRTDATETIME'][-len(forecasted_strttime):]\n",
        "actual_et = data['ENDDATETIME'][-len(forecasted_endtime):]\n",
        "actual_trpmiles = data['TRPMILES'][-len(forecast_trpmiles):]\n",
        "\n",
        "for actual_st, forecast_st, actual_et, forecast_et, actual_tm, forecast_tm in zip(actual_st, forecasted_strttime, actual_et, forecasted_endtime, actual_trpmiles, forecast_trpmiles):\n",
        "    print(f\"Actual STRTDATETIME: {actual_st}, Forecasted STRTDATETIME: {forecast_st}, Actual TRPMILES: {actual_tm}, Forecasted TRPMILES: {forecast_tm}, Actual ENDDATETIME: {actual_et}, Forecasted ENDDATETIME: {forecast_et}\")\n"
      ]
    },
    {
      "cell_type": "code",
      "execution_count": 32,
      "metadata": {
        "colab": {
          "base_uri": "https://localhost:8080/"
        },
        "id": "vdiLbRncFHPP",
        "outputId": "a331a879-fc59-4a6e-efce-b932ef74d7f9"
      },
      "outputs": [
        {
          "name": "stderr",
          "output_type": "stream",
          "text": [
            "/Library/Frameworks/Python.framework/Versions/3.12/lib/python3.12/site-packages/statsmodels/tsa/base/tsa_model.py:559: UserWarning: Could not infer format, so each element will be parsed individually, falling back to `dateutil`. To ensure parsing is consistent and as-expected, please specify a format.\n",
            "  _index = to_datetime(index)\n",
            "/Library/Frameworks/Python.framework/Versions/3.12/lib/python3.12/site-packages/statsmodels/tsa/base/tsa_model.py:473: ValueWarning: A date index has been provided, but it has no associated frequency information and so will be ignored when e.g. forecasting.\n",
            "  self._init_dates(dates, freq)\n",
            "/Library/Frameworks/Python.framework/Versions/3.12/lib/python3.12/site-packages/statsmodels/tsa/base/tsa_model.py:473: ValueWarning: A date index has been provided, but it is not monotonic and so will be ignored when e.g. forecasting.\n",
            "  self._init_dates(dates, freq)\n",
            "/Library/Frameworks/Python.framework/Versions/3.12/lib/python3.12/site-packages/statsmodels/tsa/base/tsa_model.py:559: UserWarning: Could not infer format, so each element will be parsed individually, falling back to `dateutil`. To ensure parsing is consistent and as-expected, please specify a format.\n",
            "  _index = to_datetime(index)\n",
            "/Library/Frameworks/Python.framework/Versions/3.12/lib/python3.12/site-packages/statsmodels/tsa/base/tsa_model.py:473: ValueWarning: A date index has been provided, but it has no associated frequency information and so will be ignored when e.g. forecasting.\n",
            "  self._init_dates(dates, freq)\n",
            "/Library/Frameworks/Python.framework/Versions/3.12/lib/python3.12/site-packages/statsmodels/tsa/base/tsa_model.py:473: ValueWarning: A date index has been provided, but it is not monotonic and so will be ignored when e.g. forecasting.\n",
            "  self._init_dates(dates, freq)\n",
            "/Library/Frameworks/Python.framework/Versions/3.12/lib/python3.12/site-packages/statsmodels/tsa/base/tsa_model.py:559: UserWarning: Could not infer format, so each element will be parsed individually, falling back to `dateutil`. To ensure parsing is consistent and as-expected, please specify a format.\n",
            "  _index = to_datetime(index)\n",
            "/Library/Frameworks/Python.framework/Versions/3.12/lib/python3.12/site-packages/statsmodels/tsa/base/tsa_model.py:473: ValueWarning: A date index has been provided, but it has no associated frequency information and so will be ignored when e.g. forecasting.\n",
            "  self._init_dates(dates, freq)\n",
            "/Library/Frameworks/Python.framework/Versions/3.12/lib/python3.12/site-packages/statsmodels/tsa/base/tsa_model.py:473: ValueWarning: A date index has been provided, but it is not monotonic and so will be ignored when e.g. forecasting.\n",
            "  self._init_dates(dates, freq)\n"
          ]
        },
        {
          "name": "stdout",
          "output_type": "stream",
          "text": [
            "                               SARIMAX Results                                \n",
            "==============================================================================\n",
            "Dep. Variable:           STRTDATETIME   No. Observations:                31074\n",
            "Model:                 ARIMA(1, 1, 1)   Log Likelihood            -1120224.240\n",
            "Date:                Thu, 20 Jun 2024   AIC                        2240454.479\n",
            "Time:                        23:53:49   BIC                        2240479.512\n",
            "Sample:                             0   HQIC                       2240462.498\n",
            "                              - 31074                                         \n",
            "Covariance Type:                  opg                                         \n",
            "==============================================================================\n",
            "                 coef    std err          z      P>|z|      [0.025      0.975]\n",
            "------------------------------------------------------------------------------\n",
            "ar.L1          0.4241      0.497      0.854      0.393      -0.550       1.398\n",
            "ma.L1         -0.4254      0.497     -0.856      0.392      -1.399       0.548\n",
            "sigma2      1.201e+30   6.11e-31   1.97e+60      0.000     1.2e+30     1.2e+30\n",
            "===================================================================================\n",
            "Ljung-Box (L1) (Q):                   5.89   Jarque-Bera (JB):           5178797.74\n",
            "Prob(Q):                              0.02   Prob(JB):                         0.00\n",
            "Heteroskedasticity (H):               0.49   Skew:                             0.03\n",
            "Prob(H) (two-sided):                  0.00   Kurtosis:                        66.25\n",
            "===================================================================================\n",
            "\n",
            "Warnings:\n",
            "[1] Covariance matrix calculated using the outer product of gradients (complex-step).\n",
            "[2] Covariance matrix is singular or near-singular, with condition number 1.73e+76. Standard errors may be unstable.\n"
          ]
        }
      ],
      "source": [
        "from statsmodels.tsa.arima.model import ARIMA\n",
        "\n",
        "# Convert datetime objects to numerical timestamps\n",
        "data['STRTDATETIME'] = pd.to_numeric(pd.to_datetime(data['STRTDATETIME']))\n",
        "\n",
        "# Define the order of the ARIMA model (p, d, q)\n",
        "model_s = ARIMA(data['STRTDATETIME'], order=(1,1,1))\n",
        "models_s_fit = model_s.fit()\n",
        "\n",
        "# Summary of the model\n",
        "print(models_s_fit.summary())\n"
      ]
    },
    {
      "cell_type": "code",
      "execution_count": 34,
      "metadata": {
        "colab": {
          "base_uri": "https://localhost:8080/"
        },
        "id": "EJ6WfGQvFTnA",
        "outputId": "2a1f79d1-b609-4fef-86c7-3c966cab3f53"
      },
      "outputs": [
        {
          "name": "stderr",
          "output_type": "stream",
          "text": [
            "/Library/Frameworks/Python.framework/Versions/3.12/lib/python3.12/site-packages/statsmodels/tsa/base/tsa_model.py:559: UserWarning: Could not infer format, so each element will be parsed individually, falling back to `dateutil`. To ensure parsing is consistent and as-expected, please specify a format.\n",
            "  _index = to_datetime(index)\n",
            "/Library/Frameworks/Python.framework/Versions/3.12/lib/python3.12/site-packages/statsmodels/tsa/base/tsa_model.py:473: ValueWarning: A date index has been provided, but it has no associated frequency information and so will be ignored when e.g. forecasting.\n",
            "  self._init_dates(dates, freq)\n",
            "/Library/Frameworks/Python.framework/Versions/3.12/lib/python3.12/site-packages/statsmodels/tsa/base/tsa_model.py:473: ValueWarning: A date index has been provided, but it is not monotonic and so will be ignored when e.g. forecasting.\n",
            "  self._init_dates(dates, freq)\n",
            "/Library/Frameworks/Python.framework/Versions/3.12/lib/python3.12/site-packages/statsmodels/tsa/base/tsa_model.py:559: UserWarning: Could not infer format, so each element will be parsed individually, falling back to `dateutil`. To ensure parsing is consistent and as-expected, please specify a format.\n",
            "  _index = to_datetime(index)\n",
            "/Library/Frameworks/Python.framework/Versions/3.12/lib/python3.12/site-packages/statsmodels/tsa/base/tsa_model.py:473: ValueWarning: A date index has been provided, but it has no associated frequency information and so will be ignored when e.g. forecasting.\n",
            "  self._init_dates(dates, freq)\n",
            "/Library/Frameworks/Python.framework/Versions/3.12/lib/python3.12/site-packages/statsmodels/tsa/base/tsa_model.py:473: ValueWarning: A date index has been provided, but it is not monotonic and so will be ignored when e.g. forecasting.\n",
            "  self._init_dates(dates, freq)\n",
            "/Library/Frameworks/Python.framework/Versions/3.12/lib/python3.12/site-packages/statsmodels/tsa/base/tsa_model.py:559: UserWarning: Could not infer format, so each element will be parsed individually, falling back to `dateutil`. To ensure parsing is consistent and as-expected, please specify a format.\n",
            "  _index = to_datetime(index)\n",
            "/Library/Frameworks/Python.framework/Versions/3.12/lib/python3.12/site-packages/statsmodels/tsa/base/tsa_model.py:473: ValueWarning: A date index has been provided, but it has no associated frequency information and so will be ignored when e.g. forecasting.\n",
            "  self._init_dates(dates, freq)\n",
            "/Library/Frameworks/Python.framework/Versions/3.12/lib/python3.12/site-packages/statsmodels/tsa/base/tsa_model.py:473: ValueWarning: A date index has been provided, but it is not monotonic and so will be ignored when e.g. forecasting.\n",
            "  self._init_dates(dates, freq)\n"
          ]
        },
        {
          "name": "stdout",
          "output_type": "stream",
          "text": [
            "                               SARIMAX Results                                \n",
            "==============================================================================\n",
            "Dep. Variable:            ENDDATETIME   No. Observations:                31074\n",
            "Model:                 ARIMA(1, 1, 1)   Log Likelihood            -1120220.999\n",
            "Date:                Thu, 20 Jun 2024   AIC                        2240447.998\n",
            "Time:                        23:54:06   BIC                        2240473.031\n",
            "Sample:                             0   HQIC                       2240456.017\n",
            "                              - 31074                                         \n",
            "Covariance Type:                  opg                                         \n",
            "==============================================================================\n",
            "                 coef    std err          z      P>|z|      [0.025      0.975]\n",
            "------------------------------------------------------------------------------\n",
            "ar.L1          0.8824      0.043     20.655      0.000       0.799       0.966\n",
            "ma.L1         -0.8838      0.043    -20.752      0.000      -0.967      -0.800\n",
            "sigma2      1.201e+30   4.11e-33   2.93e+62      0.000     1.2e+30     1.2e+30\n",
            "===================================================================================\n",
            "Ljung-Box (L1) (Q):                   5.98   Jarque-Bera (JB):           5169401.86\n",
            "Prob(Q):                              0.01   Prob(JB):                         0.00\n",
            "Heteroskedasticity (H):               0.49   Skew:                             0.04\n",
            "Prob(H) (two-sided):                  0.00   Kurtosis:                        66.19\n",
            "===================================================================================\n",
            "\n",
            "Warnings:\n",
            "[1] Covariance matrix calculated using the outer product of gradients (complex-step).\n",
            "[2] Covariance matrix is singular or near-singular, with condition number 2.73e+78. Standard errors may be unstable.\n"
          ]
        }
      ],
      "source": [
        "from statsmodels.tsa.arima.model import ARIMA\n",
        "\n",
        "# Convert datetime objects to numerical timestamps\n",
        "data['ENDDATETIME'] = pd.to_numeric(pd.to_datetime(data['ENDDATETIME']))\n",
        "\n",
        "# Define the order of the ARIMA model (p, d, q)\n",
        "model_s = ARIMA(data['ENDDATETIME'], order=(1,1,1))\n",
        "models_s_fit = model_s.fit()\n",
        "\n",
        "# Summary of the model\n",
        "print(models_s_fit.summary())"
      ]
    },
    {
      "cell_type": "markdown",
      "metadata": {
        "id": "qjEV2SiwqowY"
      },
      "source": [
        "# **Feature Engineering**"
      ]
    },
    {
      "cell_type": "markdown",
      "metadata": {
        "id": "aDC_Ubzho0Eb"
      },
      "source": [
        "# **Model Evaluation**"
      ]
    },
    {
      "cell_type": "code",
      "execution_count": 35,
      "metadata": {
        "colab": {
          "base_uri": "https://localhost:8080/"
        },
        "id": "ajTOhLv8o2Pi",
        "outputId": "b75fd3fb-1f28-4685-b146-61eadf1d367a"
      },
      "outputs": [
        {
          "name": "stderr",
          "output_type": "stream",
          "text": [
            "/Library/Frameworks/Python.framework/Versions/3.12/lib/python3.12/site-packages/statsmodels/tsa/base/tsa_model.py:559: UserWarning: Could not infer format, so each element will be parsed individually, falling back to `dateutil`. To ensure parsing is consistent and as-expected, please specify a format.\n",
            "  _index = to_datetime(index)\n",
            "/Library/Frameworks/Python.framework/Versions/3.12/lib/python3.12/site-packages/statsmodels/tsa/base/tsa_model.py:473: ValueWarning: A date index has been provided, but it has no associated frequency information and so will be ignored when e.g. forecasting.\n",
            "  self._init_dates(dates, freq)\n",
            "/Library/Frameworks/Python.framework/Versions/3.12/lib/python3.12/site-packages/statsmodels/tsa/base/tsa_model.py:473: ValueWarning: A date index has been provided, but it is not monotonic and so will be ignored when e.g. forecasting.\n",
            "  self._init_dates(dates, freq)\n",
            "/Library/Frameworks/Python.framework/Versions/3.12/lib/python3.12/site-packages/statsmodels/tsa/base/tsa_model.py:559: UserWarning: Could not infer format, so each element will be parsed individually, falling back to `dateutil`. To ensure parsing is consistent and as-expected, please specify a format.\n",
            "  _index = to_datetime(index)\n",
            "/Library/Frameworks/Python.framework/Versions/3.12/lib/python3.12/site-packages/statsmodels/tsa/base/tsa_model.py:473: ValueWarning: A date index has been provided, but it has no associated frequency information and so will be ignored when e.g. forecasting.\n",
            "  self._init_dates(dates, freq)\n",
            "/Library/Frameworks/Python.framework/Versions/3.12/lib/python3.12/site-packages/statsmodels/tsa/base/tsa_model.py:473: ValueWarning: A date index has been provided, but it is not monotonic and so will be ignored when e.g. forecasting.\n",
            "  self._init_dates(dates, freq)\n",
            "/Library/Frameworks/Python.framework/Versions/3.12/lib/python3.12/site-packages/statsmodels/tsa/base/tsa_model.py:559: UserWarning: Could not infer format, so each element will be parsed individually, falling back to `dateutil`. To ensure parsing is consistent and as-expected, please specify a format.\n",
            "  _index = to_datetime(index)\n",
            "/Library/Frameworks/Python.framework/Versions/3.12/lib/python3.12/site-packages/statsmodels/tsa/base/tsa_model.py:473: ValueWarning: A date index has been provided, but it has no associated frequency information and so will be ignored when e.g. forecasting.\n",
            "  self._init_dates(dates, freq)\n",
            "/Library/Frameworks/Python.framework/Versions/3.12/lib/python3.12/site-packages/statsmodels/tsa/base/tsa_model.py:473: ValueWarning: A date index has been provided, but it is not monotonic and so will be ignored when e.g. forecasting.\n",
            "  self._init_dates(dates, freq)\n",
            "/Library/Frameworks/Python.framework/Versions/3.12/lib/python3.12/site-packages/statsmodels/tsa/base/tsa_model.py:559: UserWarning: Could not infer format, so each element will be parsed individually, falling back to `dateutil`. To ensure parsing is consistent and as-expected, please specify a format.\n",
            "  _index = to_datetime(index)\n",
            "/Library/Frameworks/Python.framework/Versions/3.12/lib/python3.12/site-packages/statsmodels/tsa/base/tsa_model.py:473: ValueWarning: A date index has been provided, but it has no associated frequency information and so will be ignored when e.g. forecasting.\n",
            "  self._init_dates(dates, freq)\n",
            "/Library/Frameworks/Python.framework/Versions/3.12/lib/python3.12/site-packages/statsmodels/tsa/base/tsa_model.py:473: ValueWarning: A date index has been provided, but it is not monotonic and so will be ignored when e.g. forecasting.\n",
            "  self._init_dates(dates, freq)\n",
            "/Library/Frameworks/Python.framework/Versions/3.12/lib/python3.12/site-packages/statsmodels/tsa/base/tsa_model.py:559: UserWarning: Could not infer format, so each element will be parsed individually, falling back to `dateutil`. To ensure parsing is consistent and as-expected, please specify a format.\n",
            "  _index = to_datetime(index)\n",
            "/Library/Frameworks/Python.framework/Versions/3.12/lib/python3.12/site-packages/statsmodels/tsa/base/tsa_model.py:473: ValueWarning: A date index has been provided, but it has no associated frequency information and so will be ignored when e.g. forecasting.\n",
            "  self._init_dates(dates, freq)\n",
            "/Library/Frameworks/Python.framework/Versions/3.12/lib/python3.12/site-packages/statsmodels/tsa/base/tsa_model.py:473: ValueWarning: A date index has been provided, but it is not monotonic and so will be ignored when e.g. forecasting.\n",
            "  self._init_dates(dates, freq)\n",
            "/Library/Frameworks/Python.framework/Versions/3.12/lib/python3.12/site-packages/statsmodels/tsa/base/tsa_model.py:559: UserWarning: Could not infer format, so each element will be parsed individually, falling back to `dateutil`. To ensure parsing is consistent and as-expected, please specify a format.\n",
            "  _index = to_datetime(index)\n",
            "/Library/Frameworks/Python.framework/Versions/3.12/lib/python3.12/site-packages/statsmodels/tsa/base/tsa_model.py:473: ValueWarning: A date index has been provided, but it has no associated frequency information and so will be ignored when e.g. forecasting.\n",
            "  self._init_dates(dates, freq)\n",
            "/Library/Frameworks/Python.framework/Versions/3.12/lib/python3.12/site-packages/statsmodels/tsa/base/tsa_model.py:473: ValueWarning: A date index has been provided, but it is not monotonic and so will be ignored when e.g. forecasting.\n",
            "  self._init_dates(dates, freq)\n",
            "/Library/Frameworks/Python.framework/Versions/3.12/lib/python3.12/site-packages/statsmodels/tsa/base/tsa_model.py:559: UserWarning: Could not infer format, so each element will be parsed individually, falling back to `dateutil`. To ensure parsing is consistent and as-expected, please specify a format.\n",
            "  _index = to_datetime(index)\n",
            "/Library/Frameworks/Python.framework/Versions/3.12/lib/python3.12/site-packages/statsmodels/tsa/base/tsa_model.py:473: ValueWarning: A date index has been provided, but it has no associated frequency information and so will be ignored when e.g. forecasting.\n",
            "  self._init_dates(dates, freq)\n",
            "/Library/Frameworks/Python.framework/Versions/3.12/lib/python3.12/site-packages/statsmodels/tsa/base/tsa_model.py:473: ValueWarning: A date index has been provided, but it is not monotonic and so will be ignored when e.g. forecasting.\n",
            "  self._init_dates(dates, freq)\n",
            "/Library/Frameworks/Python.framework/Versions/3.12/lib/python3.12/site-packages/statsmodels/tsa/base/tsa_model.py:559: UserWarning: Could not infer format, so each element will be parsed individually, falling back to `dateutil`. To ensure parsing is consistent and as-expected, please specify a format.\n",
            "  _index = to_datetime(index)\n",
            "/Library/Frameworks/Python.framework/Versions/3.12/lib/python3.12/site-packages/statsmodels/tsa/base/tsa_model.py:473: ValueWarning: A date index has been provided, but it has no associated frequency information and so will be ignored when e.g. forecasting.\n",
            "  self._init_dates(dates, freq)\n",
            "/Library/Frameworks/Python.framework/Versions/3.12/lib/python3.12/site-packages/statsmodels/tsa/base/tsa_model.py:473: ValueWarning: A date index has been provided, but it is not monotonic and so will be ignored when e.g. forecasting.\n",
            "  self._init_dates(dates, freq)\n",
            "/Library/Frameworks/Python.framework/Versions/3.12/lib/python3.12/site-packages/statsmodels/tsa/base/tsa_model.py:559: UserWarning: Could not infer format, so each element will be parsed individually, falling back to `dateutil`. To ensure parsing is consistent and as-expected, please specify a format.\n",
            "  _index = to_datetime(index)\n",
            "/Library/Frameworks/Python.framework/Versions/3.12/lib/python3.12/site-packages/statsmodels/tsa/base/tsa_model.py:473: ValueWarning: A date index has been provided, but it has no associated frequency information and so will be ignored when e.g. forecasting.\n",
            "  self._init_dates(dates, freq)\n",
            "/Library/Frameworks/Python.framework/Versions/3.12/lib/python3.12/site-packages/statsmodels/tsa/base/tsa_model.py:473: ValueWarning: A date index has been provided, but it is not monotonic and so will be ignored when e.g. forecasting.\n",
            "  self._init_dates(dates, freq)\n",
            "/Library/Frameworks/Python.framework/Versions/3.12/lib/python3.12/site-packages/statsmodels/tsa/base/tsa_model.py:836: ValueWarning: No supported index is available. Prediction results will be given with an integer index beginning at `start`.\n",
            "  return get_prediction_index(\n",
            "/Library/Frameworks/Python.framework/Versions/3.12/lib/python3.12/site-packages/statsmodels/tsa/base/tsa_model.py:836: FutureWarning: No supported index is available. In the next version, calling this method in a model without a supported index will result in an exception.\n",
            "  return get_prediction_index(\n",
            "/Library/Frameworks/Python.framework/Versions/3.12/lib/python3.12/site-packages/statsmodels/tsa/base/tsa_model.py:836: ValueWarning: No supported index is available. Prediction results will be given with an integer index beginning at `start`.\n",
            "  return get_prediction_index(\n",
            "/Library/Frameworks/Python.framework/Versions/3.12/lib/python3.12/site-packages/statsmodels/tsa/base/tsa_model.py:836: ValueWarning: No supported index is available. Prediction results will be given with an integer index beginning at `start`.\n",
            "  return get_prediction_index(\n"
          ]
        }
      ],
      "source": [
        "train_size = int(len(data)*0.8)\n",
        "train,test = data[:train_size],data[train_size:]\n",
        "model = ARIMA(train['TRPMILES'], order=(p,d,q))\n",
        "model_s = ARIMA(train['STRTDATETIME'], order=(p,d,q))\n",
        "model_e = ARIMA(train['ENDDATETIME'], order=(p,d,q))\n",
        "\n",
        "model_fit = model.fit()\n",
        "model_fit_s = model_s.fit()\n",
        "model_fit_e = model_e.fit()\n",
        "forecast1  = model_fit.forecast(len(test))\n",
        "forecast2  = model_fit_s.forecast(len(test))\n",
        "forecast3  = model_fit_e.forecast(len(test))\n",
        "# plt.figure(figsize=(12, 6))\n",
        "# plt.plot(train.index, train['TRPMILES'], label='Training')\n",
        "# plt.plot(test.index, test['TRPMILES'], label='Testing')\n",
        "# plt.plot(test.index, forecast, label='Forecast')\n",
        "# plt.legend()\n",
        "# plt.show()\n"
      ]
    },
    {
      "cell_type": "code",
      "execution_count": 36,
      "metadata": {
        "colab": {
          "base_uri": "https://localhost:8080/"
        },
        "id": "o2bJzAjxpu4C",
        "outputId": "acca1c6c-d06b-4864-9b3c-6fd81ceada5a"
      },
      "outputs": [
        {
          "name": "stdout",
          "output_type": "stream",
          "text": [
            "Forest 1: 24859    12.357304\n",
            "24860    10.214018\n",
            "24861    10.596905\n",
            "24862    10.528504\n",
            "24863    10.540724\n",
            "24864    10.538541\n",
            "24865    10.538931\n",
            "24866    10.538861\n",
            "24867    10.538874\n",
            "24868    10.538872\n",
            "Name: predicted_mean, dtype: float64\n",
            "Forest 2: 24859    1.667311e+18\n",
            "24860    1.667311e+18\n",
            "24861    1.667311e+18\n",
            "24862    1.667311e+18\n",
            "24863    1.667311e+18\n",
            "24864    1.667311e+18\n",
            "24865    1.667311e+18\n",
            "24866    1.667311e+18\n",
            "24867    1.667311e+18\n",
            "24868    1.667311e+18\n",
            "Name: predicted_mean, dtype: float64\n",
            "Forest 3: 24859    1.667312e+18\n",
            "24860    1.667312e+18\n",
            "24861    1.667312e+18\n",
            "24862    1.667312e+18\n",
            "24863    1.667312e+18\n",
            "24864    1.667312e+18\n",
            "24865    1.667312e+18\n",
            "24866    1.667312e+18\n",
            "24867    1.667312e+18\n",
            "24868    1.667312e+18\n",
            "Name: predicted_mean, dtype: float64\n"
          ]
        },
        {
          "name": "stderr",
          "output_type": "stream",
          "text": [
            "/Library/Frameworks/Python.framework/Versions/3.12/lib/python3.12/site-packages/statsmodels/tsa/base/tsa_model.py:836: ValueWarning: No supported index is available. Prediction results will be given with an integer index beginning at `start`.\n",
            "  return get_prediction_index(\n",
            "/Library/Frameworks/Python.framework/Versions/3.12/lib/python3.12/site-packages/statsmodels/tsa/base/tsa_model.py:836: ValueWarning: No supported index is available. Prediction results will be given with an integer index beginning at `start`.\n",
            "  return get_prediction_index(\n",
            "/Library/Frameworks/Python.framework/Versions/3.12/lib/python3.12/site-packages/statsmodels/tsa/base/tsa_model.py:836: ValueWarning: No supported index is available. Prediction results will be given with an integer index beginning at `start`.\n",
            "  return get_prediction_index(\n"
          ]
        }
      ],
      "source": [
        "# Forecast future values\n",
        "future_steps = 10  # For example, predict next 10 steps\n",
        "forecast1 = model_fit.forecast(steps=future_steps)\n",
        "forecast2 = model_fit_s.forecast(steps=future_steps)\n",
        "forecast3 = model_fit_e.forecast(steps=future_steps)\n",
        "# Display forecasted values\n",
        "print(\"Forest 1:\",forecast1)\n",
        "print(\"Forest 2:\",forecast2)\n",
        "print(\"Forest 3:\",forecast3)"
      ]
    },
    {
      "cell_type": "code",
      "execution_count": 28,
      "metadata": {
        "colab": {
          "base_uri": "https://localhost:8080/"
        },
        "id": "YvN3PJn8GoD8",
        "outputId": "732b94fd-2940-4748-b909-8d517efe425c"
      },
      "outputs": [
        {
          "name": "stdout",
          "output_type": "stream",
          "text": [
            "Actual STRTDATETIME: 1669918200000000000, Forecasted STRTDATETIME: 2022-10-31 09:46, Actual TRPMILES: 1.94965817277812, Forecasted TRPMILES: 11.615812309589778, Actual ENDTIME: 1669918500000000000, Forecasted ENDTIME: 2022-10-31 09:51\n",
            "Actual STRTDATETIME: 1669919100000000000, Forecasted STRTDATETIME: 2022-10-30 06:04, Actual TRPMILES: 6.34742075823493, Forecasted TRPMILES: 12.038093304028381, Actual ENDTIME: 1669920000000000000, Forecasted ENDTIME: 2022-10-30 06:10\n",
            "Actual STRTDATETIME: 1669877100000000000, Forecasted STRTDATETIME: 2022-10-29 02:37, Actual TRPMILES: 6.58545680546924, Forecasted TRPMILES: 12.400936520938435, Actual ENDTIME: 1669880700000000000, Forecasted ENDTIME: 2022-10-29 02:42\n",
            "Actual STRTDATETIME: 1669905000000000000, Forecasted STRTDATETIME: 2022-10-27 23:23, Actual TRPMILES: 6.53946550652579, Forecasted TRPMILES: 12.712708070668405, Actual ENDTIME: 1669907400000000000, Forecasted ENDTIME: 2022-10-27 23:29\n",
            "Actual STRTDATETIME: 1672578000000000000, Forecasted STRTDATETIME: 2022-10-26 20:23, Actual TRPMILES: 1.25046612802983, Forecasted TRPMILES: 12.98059649930926, Actual ENDTIME: 1672578900000000000, Forecasted ENDTIME: 2022-10-26 20:29\n",
            "Actual STRTDATETIME: 1672579200000000000, Forecasted STRTDATETIME: 2022-10-25 17:36, Actual TRPMILES: 3.2958359229335, Forecasted TRPMILES: 13.210778535681158, Actual ENDTIME: 1672580100000000000, Forecasted ENDTIME: 2022-10-25 17:42\n",
            "Actual STRTDATETIME: 1672584300000000000, Forecasted STRTDATETIME: 2022-10-24 15:03, Actual TRPMILES: 3.05904288377874, Forecasted TRPMILES: 13.408561508753674, Actual ENDTIME: 1672585200000000000, Forecasted ENDTIME: 2022-10-24 15:10\n",
            "Actual STRTDATETIME: 1669897800000000000, Forecasted STRTDATETIME: 2022-10-23 12:44, Actual TRPMILES: 0.102548166563083, Forecasted TRPMILES: 13.578505719231517, Actual ENDTIME: 1669898040000000000, Forecasted ENDTIME: 2022-10-23 12:50\n",
            "Actual STRTDATETIME: 1669898400000000000, Forecasted STRTDATETIME: 2022-10-22 10:37, Actual TRPMILES: 0.257302672467371, Forecasted TRPMILES: 13.724529586838907, Actual ENDTIME: 1669898520000000000, Forecasted ENDTIME: 2022-10-22 10:44\n",
            "Actual STRTDATETIME: 1669899600000000000, Forecasted STRTDATETIME: 2022-10-21 08:44, Actual TRPMILES: 0.0, Forecasted TRPMILES: 13.849999997693537, Actual ENDTIME: 1669899720000000000, Forecasted ENDTIME: 2022-10-21 08:51\n"
          ]
        }
      ],
      "source": [
        "def convert_unix_to_datetime(timestamp):\n",
        "    return pd.to_datetime(timestamp // 10**9, unit='s').strftime('%Y-%m-%d %H:%M')\n",
        "\n",
        "# Convert forecasted timestamps for STRTTIME\n",
        "forecasted_times = []\n",
        "for timestamp in forecast2:\n",
        "    forecasted_times.append(convert_unix_to_datetime(timestamp))\n",
        "\n",
        "# Convert forecasted timestamps for ENDTIME\n",
        "forecasted_endtimes = []\n",
        "for timestamp in forecast3:\n",
        "    forecasted_endtimes.append(convert_unix_to_datetime(timestamp))\n",
        "\n",
        "# Print actual STRTDATETIME, ENDTIME, TRPMILES, and forecasted values\n",
        "actual_st = data['STRTDATETIME'][-len(forecasted_times):]  # Assuming you want the last forecasted times\n",
        "actual_trpmiles = data['TRPMILES'][-len(forecasted_times):]  # Assuming TRPMILES aligns with STRTDATETIME\n",
        "actual_end = data['ENDDATETIME'][-len(forecasted_times):]\n",
        "for actual, forecast, actual_trp, forecast_trp, actual_end, forecast_end in zip(actual_st, forecasted_times, actual_trpmiles, forecast1, actual_end, forecasted_endtimes):\n",
        "    print(f\"Actual STRTDATETIME: {actual}, Forecasted STRTDATETIME: {forecast}, Actual TRPMILES: {actual_trp}, Forecasted TRPMILES: {forecast_trp}, Actual ENDTIME: {actual_end}, Forecasted ENDTIME: {forecast_end}\")"
      ]
    }
  ],
  "metadata": {
    "colab": {
      "provenance": []
    },
    "kernelspec": {
      "display_name": "Python 3",
      "name": "python3"
    },
    "language_info": {
      "codemirror_mode": {
        "name": "ipython",
        "version": 3
      },
      "file_extension": ".py",
      "mimetype": "text/x-python",
      "name": "python",
      "nbconvert_exporter": "python",
      "pygments_lexer": "ipython3",
      "version": "3.12.4"
    }
  },
  "nbformat": 4,
  "nbformat_minor": 0
}
